{
 "cells": [
  {
   "cell_type": "code",
   "execution_count": 1,
   "metadata": {},
   "outputs": [
    {
     "name": "stderr",
     "output_type": "stream",
     "text": [
      "c:\\Users\\ADMIN\\AppData\\Local\\Programs\\Python\\Python310\\lib\\site-packages\\sentence_transformers\\cross_encoder\\CrossEncoder.py:11: TqdmExperimentalWarning: Using `tqdm.autonotebook.tqdm` in notebook mode. Use `tqdm.tqdm` instead to force console mode (e.g. in jupyter console)\n",
      "  from tqdm.autonotebook import tqdm, trange\n"
     ]
    }
   ],
   "source": [
    "from sentence_transformers import SentenceTransformer, util, InputExample, losses\n",
    "from langchain_text_splitters import RecursiveCharacterTextSplitter\n",
    "from langchain_community.document_loaders import DirectoryLoader\n",
    "from langchain_community.chat_models import ChatOllama\n",
    "import matplotlib.pyplot as plt\n",
    "from typing import Optional\n",
    "import numpy as np\n",
    "import umap\n",
    "import matplotlib.pyplot as plt\n",
    "import numpy as np\n",
    "from sklearn.mixture import GaussianMixture\n",
    "import tiktoken\n",
    "import pandas as pd\n"
   ]
  },
  {
   "cell_type": "code",
   "execution_count": 2,
   "metadata": {},
   "outputs": [
    {
     "name": "stderr",
     "output_type": "stream",
     "text": [
      "c:\\Users\\ADMIN\\AppData\\Local\\Programs\\Python\\Python310\\lib\\site-packages\\transformers\\tokenization_utils_base.py:1601: FutureWarning: `clean_up_tokenization_spaces` was not set. It will be set to `True` by default. This behavior will be depracted in transformers v4.45, and will be then set to `False` by default. For more details check this issue: https://github.com/huggingface/transformers/issues/31884\n",
      "  warnings.warn(\n"
     ]
    }
   ],
   "source": [
    "model = SentenceTransformer('all-MiniLM-L6-v2')"
   ]
  },
  {
   "cell_type": "code",
   "execution_count": 3,
   "metadata": {},
   "outputs": [],
   "source": [
    "loader = DirectoryLoader('data', glob=\"**/*.txt\")\n",
    "docs = loader.load()"
   ]
  },
  {
   "cell_type": "code",
   "execution_count": 4,
   "metadata": {},
   "outputs": [],
   "source": [
    "text_splitter = RecursiveCharacterTextSplitter(\n",
    "    chunk_size=200,\n",
    "    chunk_overlap=20,\n",
    "    length_function=len,\n",
    "    is_separator_regex=False,\n",
    ")"
   ]
  },
  {
   "cell_type": "code",
   "execution_count": 5,
   "metadata": {},
   "outputs": [],
   "source": [
    "docs = text_splitter.split_documents(docs)\n",
    "texts = [doc.page_content for doc in docs]"
   ]
  },
  {
   "cell_type": "code",
   "execution_count": 6,
   "metadata": {},
   "outputs": [],
   "source": [
    "def num_tokens_from_string(string: str) -> int:\n",
    "    \"\"\"Returns the number of tokens in a text string.\"\"\"\n",
    "    encoding = tiktoken.get_encoding(\"cl100k_base\")\n",
    "    num_tokens = len(encoding.encode(string))\n",
    "    return num_tokens"
   ]
  },
  {
   "cell_type": "code",
   "execution_count": 7,
   "metadata": {},
   "outputs": [],
   "source": [
    "counts = [num_tokens_from_string(t) for t in texts]\n"
   ]
  },
  {
   "cell_type": "code",
   "execution_count": 8,
   "metadata": {},
   "outputs": [
    {
     "data": {
      "text/plain": [
       "<function matplotlib.pyplot.show(close=None, block=None)>"
      ]
     },
     "execution_count": 8,
     "metadata": {},
     "output_type": "execute_result"
    },
    {
     "data": {
      "image/png": "[encoded data removed]",
      "text/plain": [
       "<Figure size 1000x600 with 1 Axes>"
      ]
     },
     "metadata": {},
     "output_type": "display_data"
    }
   ],
   "source": [
    "import matplotlib.pyplot as plt\n",
    "\n",
    "plt.figure(figsize=(10, 6))\n",
    "plt.hist(counts, bins=30, color=\"blue\", edgecolor=\"black\", alpha=0.7)\n",
    "plt.title(\"Histogram of Token Counts\")\n",
    "plt.xlabel(\"Token Count\")\n",
    "plt.ylabel(\"Frequency\")\n",
    "plt.grid(axis=\"y\", alpha=0.75)\n",
    "plt.show"
   ]
  },
  {
   "cell_type": "code",
   "execution_count": 9,
   "metadata": {},
   "outputs": [
    {
     "name": "stdout",
     "output_type": "stream",
     "text": [
      "Num tokens in all context: 5250\n"
     ]
    }
   ],
   "source": [
    "d_sorted = sorted(docs, key=lambda x: x.metadata[\"source\"])\n",
    "d_reversed = list(reversed(d_sorted))\n",
    "concatenated_content = \"\\n\\n\\n --- \\n\\n\\n\".join(\n",
    "    [doc.page_content for doc in d_reversed]\n",
    ")\n",
    "print(\n",
    "    \"Num tokens in all context: %s\"\n",
    "    % num_tokens_from_string(concatenated_content)\n",
    ")"
   ]
  },
  {
   "cell_type": "code",
   "execution_count": 10,
   "metadata": {},
   "outputs": [],
   "source": [
    "global_embeddings = [model.encode(txt) for txt in texts]"
   ]
  },
  {
   "cell_type": "code",
   "execution_count": 11,
   "metadata": {},
   "outputs": [
    {
     "data": {
      "text/plain": [
       "array([ 6.0182924 ,  0.25438383,  3.69432   ,  3.1313214 , 12.159335  ,\n",
       "        5.8155184 ,  0.95078725, 11.425721  ,  4.0267787 ,  4.6272097 ],\n",
       "      dtype=float32)"
      ]
     },
     "execution_count": 11,
     "metadata": {},
     "output_type": "execute_result"
    }
   ],
   "source": [
    "def reduce_cluster_embeddings(\n",
    "    embeddings: np.ndarray,\n",
    "    dim: int,\n",
    "    n_neighbors: Optional[int] = None,\n",
    "    metric: str = \"cosine\",\n",
    ") -> np.ndarray:\n",
    "    if n_neighbors is None:\n",
    "        n_neighbors = int((len(embeddings) - 1) ** 0.5)\n",
    "    return umap.UMAP(\n",
    "        n_neighbors=n_neighbors, n_components=dim, metric=metric\n",
    "    ).fit_transform(embeddings)\n",
    "\n",
    "\n",
    "dim = 10\n",
    "global_embeddings_reduced = reduce_cluster_embeddings(global_embeddings, dim)\n",
    "global_embeddings_reduced[0]"
   ]
  },
  {
   "cell_type": "code",
   "execution_count": 12,
   "metadata": {},
   "outputs": [],
   "source": [
    "def get_optimal_clusters(embeddings: np.ndarray, max_clusters: int = 50, random_state: int = 1234):\n",
    "    max_clusters = min(max_clusters, len(embeddings))\n",
    "    bics = [GaussianMixture(n_components=n, random_state=random_state).fit(embeddings).bic(embeddings)\n",
    "            for n in range(1, max_clusters)]\n",
    "    return np.argmin(bics) + 1\n",
    "\n",
    "def gmm_clustering(embeddings: np.ndarray, threshold: float, random_state: int = 0):\n",
    "    n_clusters = get_optimal_clusters(embeddings)\n",
    "    gm = GaussianMixture(n_components=n_clusters, random_state=random_state).fit(embeddings)\n",
    "    probs = gm.predict_proba(embeddings)\n",
    "    labels = [np.where(prob > threshold)[0] for prob in probs]\n",
    "    return labels, n_clusters"
   ]
  },
  {
   "cell_type": "code",
   "execution_count": 13,
   "metadata": {},
   "outputs": [
    {
     "name": "stderr",
     "output_type": "stream",
     "text": [
      "c:\\Users\\ADMIN\\AppData\\Local\\Programs\\Python\\Python310\\lib\\site-packages\\threadpoolctl.py:1214: RuntimeWarning: \n",
      "Found Intel OpenMP ('libiomp') and LLVM OpenMP ('libomp') loaded at\n",
      "the same time. Both libraries are known to be incompatible and this\n",
      "can cause random crashes or deadlocks on Linux when loaded in the\n",
      "same Python program.\n",
      "Using threadpoolctl may cause crashes or deadlocks. For more\n",
      "information and possible workarounds, please see\n",
      "    https://github.com/joblib/threadpoolctl/blob/master/multiple_openmp.md\n",
      "\n",
      "  warnings.warn(msg, RuntimeWarning)\n"
     ]
    }
   ],
   "source": [
    "labels, _ = gmm_clustering(global_embeddings_reduced, threshold=0.5)"
   ]
  },
  {
   "cell_type": "code",
   "execution_count": 14,
   "metadata": {},
   "outputs": [
    {
     "data": {
      "text/plain": [
       "12"
      ]
     },
     "execution_count": 14,
     "metadata": {},
     "output_type": "execute_result"
    }
   ],
   "source": [
    "_"
   ]
  },
  {
   "cell_type": "code",
   "execution_count": 15,
   "metadata": {},
   "outputs": [
    {
     "name": "stdout",
     "output_type": "stream",
     "text": [
      "                                                Text  \\\n",
      "0  Step into our Tuscan-inspired sanctuary, where...   \n",
      "1  Tuscany, renowned for its breathtaking country...   \n",
      "2  Begin your journey with an antipasto platter a...   \n",
      "\n",
      "                                           Embedding  Cluster  \n",
      "0  [6.0182924, 0.25438383, 3.69432, 3.1313214, 12...        1  \n",
      "1  [6.01157, 0.28817508, 3.77604, 2.9922698, 12.0...       10  \n",
      "2  [5.919238, 0.14384513, 3.6646054, 3.2660425, 1...        1  \n"
     ]
    }
   ],
   "source": [
    "simple_labels = [label[0] if len(label) > 0 else -1 for label in labels]\n",
    "\n",
    "df = pd.DataFrame({\n",
    "    'Text': texts,\n",
    "    'Embedding': list(global_embeddings_reduced),\n",
    "    'Cluster': simple_labels\n",
    "})\n",
    "print(df.head(3))"
   ]
  },
  {
   "cell_type": "code",
   "execution_count": 16,
   "metadata": {},
   "outputs": [
    {
     "data": {
      "text/plain": [
       "array([ 1, 10,  7,  4,  5,  0,  9,  8,  6,  3, 11,  2], dtype=int64)"
      ]
     },
     "execution_count": 16,
     "metadata": {},
     "output_type": "execute_result"
    }
   ],
   "source": [
    "df.Cluster.unique()"
   ]
  },
  {
   "cell_type": "code",
   "execution_count": 17,
   "metadata": {},
   "outputs": [],
   "source": [
    "def format_cluster_texts(df):\n",
    "    clustered_texts = {}\n",
    "    for cluster in df['Cluster'].unique():\n",
    "        cluster_texts = df[df['Cluster'] == cluster]['Text'].tolist()\n",
    "        clustered_texts[cluster] = \" --- \".join(cluster_texts)\n",
    "    return clustered_texts"
   ]
  },
  {
   "cell_type": "code",
   "execution_count": 18,
   "metadata": {},
   "outputs": [],
   "source": [
    "clustered_texts = format_cluster_texts(df)"
   ]
  },
  {
   "cell_type": "code",
   "execution_count": 19,
   "metadata": {},
   "outputs": [
    {
     "data": {
      "text/plain": [
       "{1: \"Step into our Tuscan-inspired sanctuary, where the golden hues of sun-kissed landscapes and the earthy aromas of olive groves and vineyards set the stage for a memorable dining experience. Tuscany, --- Begin your journey with an antipasto platter adorned with cured meats, aged cheeses, and marinated vegetables, reminiscent of leisurely gatherings under the Tuscan sun. Each bite tells a story of --- Indulge in classics like Ribollita, a hearty vegetable soup enriched with cannellini beans and Tuscan kale. This comforting dish, born out of frugality and resourcefulness, warms both body and soul, --- both body and soul, offering a taste of Tuscan tradition with every spoonful. --- As you dine, let the flavors of Tuscany transport you to a simpler time, where meals were savored slowly and each ingredient was cherished for its role in creating culinary magic. From the fields to --- From the fields to the table, every aspect of Tuscan cuisine speaks to a deep connection to the land and a reverence for the ingredients that define it. --- robust flavors and vibrant colors, is a testament to the city's rich culinary heritage and its love affair with bold, Mediterranean flavors. --- of our culinary philosophy lies a deep reverence for the simple yet sublime beauty of the Mediterranean diet, which celebrates the natural bounty of the land and sea, and the art of transforming --- their natural flavors to shine through in every bite. From ripe tomatoes bursting with sun-ripened sweetness to fragrant basil leaves picked at the peak of freshness, our kitchen is a symphony of --- Chapter 2: The Heart of the Mediterranean At the heart of Italian cuisine lies the Mediterranean diet, a way of eating that emphasizes whole grains, fresh fruits and vegetables, lean proteins, and --- lean proteins, and healthy fats, all of which are abundant in the sun-drenched regions of southern Europe. Olive oil, the cornerstone of Mediterranean cooking, infuses our dishes with its golden hue --- with its golden hue and fruity flavor, while herbs like oregano, rosemary, and thyme add depth and complexity to our sauces and marinades. Seafood, another staple of the Mediterranean diet, features --- diet, features prominently on our menu, from delicate crudo plates adorned with citrus and herbs to hearty seafood stews simmered in rich tomato broth. --- the freshest, most flavorful produce available. Our tomatoes are handpicked at the peak of ripeness from local farms, our cheeses are crafted with care by artisanal cheesemakers, and our meats are --- and our meats are sourced from trusted suppliers who share our commitment to quality and sustainability. By supporting local farmers and producers, we not only ensure the integrity of our ingredients --- of our ingredients but also contribute to the vibrant food culture that thrives in our community.\",\n",
       " 10: 'Tuscany, renowned for its breathtaking countryside and rich culinary heritage, offers a bounty of flavors and traditions to explore. --- and wide with its tantalizing aromas, warm hospitality, and unapologetically Italian ambiance. --- that future generations will continue to be inspired by the flavors, traditions, and spirit of Italy. --- recipes, and the values that have been cherished for generations, ensuring that the flame of Italian cuisine will continue to burn bright for years to come. --- art of transforming humble ingredients into extraordinary culinary creations. Join us as we embark on a gastronomic journey through the diverse regions of Italy, from the sun-drenched shores of --- Chapter 1: The Essence of Italian Cuisine Italian cuisine is a celebration of simplicity, freshness, and flavor, where every dish is a reflection of the land, the culture, and the people who create --- is a symphony of colors, aromas, and textures that pays homage to the rich culinary heritage of Italy. --- silky strands of spaghetti to delicate ravioli parcels, our pasta dishes are a testament to the artistry and craftsmanship of our chefs, who draw inspiration from the diverse regions of Italy to --- regions of Italy to create dishes that are both timeless and innovative. --- complex, and utterly irresistible. --- the rich culinary heritage of Italy. --- a culinary journey that delights the senses and transports you to the sun-drenched shores of Italy.',\n",
       " 7: \"tells a story of generations past, of farmers and artisans who have perfected their craft over centuries. --- Chapter 4: Roman Revival --- heritage and joyful traditions. --- Chapter 1: Roots of Inspiration --- Chapter 2: A Journey Begins --- Chapter 5: The Culinary Visionary --- Chapter 7: Legacy of Love --- spirit, and bring people together in celebration of life's simple pleasures. --- Chapter 6: The Power of Tradition While we take pride in our culinary creativity and innovation, we also recognize the importance of honoring the time-honored traditions that have been passed down\",\n",
       " 4: \"Alternatively, savor the simplicity of Cacciucco, a rustic seafood stew brimming with the bounty of the Mediterranean. With its roots firmly planted in coastal communities, this dish celebrates the --- dish celebrates the region's abundant seafood while paying homage to the fishermen who have sustained generations with their daily catch. --- Chapter 2: Flavors of Sicily --- Transport yourself to the vibrant island of Sicily, where the mingling of diverse cultures has birthed a culinary landscape as bold and colorful as its landscapes. From the bustling markets of --- food or appetizers, showcase Sicily's love affair with rice and its penchant for bold, robust flavors. --- Alternatively, sample the delights of Caponata, a sweet and sour eggplant relish bursting with tomatoes, olives, and capers. This versatile dish, with its roots in Arab cuisine, reflects Sicily's --- reflects Sicily's rich history of culinary conquests, where each bite tells a story of cultural exchange and innovation. --- For mains, indulge in Pasta alla Norma, a Sicilian classic marrying silky eggplant, rich tomato sauce, and salty ricotta salata. Named after Bellini's famous opera, this dish is a tribute to Sicily's --- tribute to Sicily's artistic soul, where food and culture intertwine in a symphony of flavors. --- Alternatively, savor the robust flavors of Swordfish Involtini, tender fish rolls filled with breadcrumbs, pine nuts, and raisins, bathed in a fragrant tomato sauce. This dish, with its blend of --- with its blend of sweet and savory elements, captures the essence of Sicily's coastal cuisine, where seafood reigns supreme. --- As you dine, let the flavors of Sicily transport you to a land of ancient ruins and vibrant cities, where the past and present collide in a kaleidoscope of flavor and tradition. At Bella Vista, our --- often enjoyed with a glass of local wine, showcase Venice's love affair with seafood and its talent for transforming simple ingredients into culinary masterpieces. --- dramatic color and rich, briny flavor, captures the essence of the city's maritime heritage, where seafood has always played a central role in the local cuisine. --- shores of Sicily to the verdant hills of Tuscany, to discover the soul-stirring flavors that have captivated palates for centuries.\",\n",
       " 5: 'Soak in the essence of Tuscany as you sip on a glass of Chianti, the region\\'s iconic red wine, and let the spirit of la dolce vita wash over you. At Bella Vista, our Tuscan-inspired menu invites you --- menu invites you to experience the true essence of Italian hospitality, where every dish is a celebration of tradition, flavor, and the timeless beauty of Tuscany. --- bustling markets of Palermo to the sun-drenched shores of Taormina, Sicily offers a feast for the senses unlike any other. --- Chapter 3: Venetian Elegance --- Embrace the romance and charm of Venice with our menu inspired by the city\\'s culinary heritage and maritime traditions. From the labyrinthine streets of the historic center to the tranquil waters of --- tranquil waters of the Grand Canal, Venice offers a feast for the senses unlike any other. --- Start your culinary voyage with Cicchetti, bite-sized Venetian snacks bursting with flavor, from creamy bacalà mantecato to delicate baccalà fritters. These small but flavorful bites, often enjoyed --- celebrates the bounty of the Venetian lagoon and the region\\'s rich agricultural heritage. --- Complete your Venetian feast with a decadent slice of Tiramisu, the quintessential Italian dessert that translates to \"pick me up.\" This heavenly confection, with its layers of espresso-soaked --- of espresso-soaked ladyfingers, creamy mascarpone, and dusting of cocoa powder, is a fitting finale to a meal that lifts the spirits and satisfies the soul. --- As you dine, let the flavors of Venice transport you to a city of timeless beauty and unparalleled elegance, where each dish is a testament to the ingenuity and creativity of Venetian cuisine. At --- cuisine. At Bella Vista, our Venetian-inspired menu invites you to experience the magic of Venice, where every bite is a journey through the city\\'s rich culinary heritage and maritime traditions. --- la dolce vita. At Bella Vista, our Roman-inspired menu invites you to experience the magic of Rome, where every bite is a journey through the city\\'s rich culinary heritage and timeless traditions. --- Chapter 5: A Symphony of Flavors Italian cuisine is renowned for its bold and vibrant flavors, which are achieved through the careful balance of sweet, sour, salty, and savory elements. At Bella --- hand-rolled gnocchi to wood-fired pizzas and artisanal gelato. By staying true to our roots and embracing the wisdom of the past, we ensure that every dish we serve is a tribute to the rich culinary --- Chapter 7: A Feast for the Senses Italian cuisine is more than just food; it\\'s a feast for the senses that engages sight, smell, taste, and touch in equal measure. At Bella Vista, we believe that',\n",
       " 0: 'Dive into a sea of flavors with Arancini, golden orbs of saffron-infused risotto stuffed with savory ragù and molten cheese. These indulgent delights, often enjoyed as street food or appetizers, --- For a taste of the sea, delve into Risotto al Nero di Seppia, a luxurious black squid ink risotto crowned with plump shrimp and tender calamari. This iconic Venetian dish, with its dramatic color and --- Alternatively, indulge in Risi e Bisi, a comforting risotto enriched with sweet peas and savory pancetta. This simple yet satisfying dish, often enjoyed during the spring months, celebrates the --- the art of crafting perfect risotto to the delicate balance of flavors in a traditional ragù, Giovanni embraced the diversity and complexity of Italian cuisine, weaving together a tapestry of flavors',\n",
       " 9: \"At Bella Vista, our Sicilian-inspired menu invites you to experience the bold, colorful cuisine of this enchanting island, where every dish is a celebration of Sicilian spirit and hospitality. --- Chapter 3: The Birth of Bella Vista --- Armed with a vision and a burning passion to share the flavors of his homeland with the world, Giovanni set out to create Bella Vista—a culinary sanctuary where the soulful flavors of Italy could be --- of Italy could be experienced in all their glory. Nestled in the heart of a bustling city, Bella Vista quickly became a beacon of authenticity, drawing food lovers from far and wide with its --- For Giovanni, Bella Vista wasn't just a restaurant—it was a labor of love, a tribute to his roots, and a testament to the power of food to bring people together. From the carefully curated menu to --- curated menu to the warm, inviting atmosphere, every aspect of Bella Vista reflected Giovanni's unwavering commitment to excellence and his deep reverence for the culinary traditions that had shaped --- step through the doors of Bella Vista, they are enveloped in a warm embrace of Italian hospitality, welcomed as family and invited to savor the simple pleasures of good food, great wine, and lively --- At Bella Vista, hospitality is more than just a job—it's a way of life, a philosophy that permeates every aspect of the dining experience. From the friendly smiles of the staff to the meticulous --- As the driving force behind Bella Vista, Giovanni is not content to simply rest on his laurels; he is constantly pushing the boundaries of Italian cuisine, exploring new flavors, techniques, and --- Beyond the walls of Bella Vista, Giovanni is deeply committed to giving back to the community that has embraced him with open arms. Whether through charitable events, culinary workshops, or --- As Giovanni looks back on his journey from the streets of Naples to the helm of Bella Vista, he is filled with gratitude for the experiences, the mentors, and the moments that have shaped him into --- For Giovanni, Bella Vista isn't just a restaurant—it's a legacy, a testament to his love for food, family, and the rich tapestry of Italian culture. Whether he's sharing a meal with loved ones or --- Introduction: Welcome to Bella Vista, where every dish is a love letter to the vibrant flavors, fresh ingredients, and time-honored traditions of Italian cuisine. At the heart of our culinary --- people who create it. At Bella Vista, we embrace this philosophy wholeheartedly, sourcing the finest seasonal ingredients from local farmers, fishermen, and artisans, and allowing their natural --- Chapter 3: The Art of Pasta Making No discussion of Italian cuisine would be complete without paying homage to pasta, the beloved staple that has been nourishing Italians for centuries. At Bella --- centuries. At Bella Vista, we take pride in our pasta-making traditions, crafting each batch of dough with care and precision to achieve the perfect texture and flavor. From silky strands of --- Chapter 4: From Field to Fork At Bella Vista, we believe that the quality of our ingredients is paramount to the success of our dishes, which is why we go to great lengths to source the freshest, --- elements. At Bella Vista, our chefs draw on a rich palette of ingredients and seasonings to create dishes that are as satisfying as they are memorable. From the zesty tang of citrus and the peppery --- been passed down through generations of Italian cooks. At Bella Vista, we pay homage to these traditions by preserving classic recipes and techniques, from slow-simmered ragùs and hand-rolled gnocchi --- Join us at Bella Vista, where every meal is an opportunity to come together, to break bread, and to revel in the simple pleasures of good food, good company, and the joy of shared experiences.\",\n",
       " 8: \"In the eternal city of Rome, ancient traditions blend seamlessly with modern flair, resulting in a culinary landscape that's as timeless as it is tantalizing. From the majestic ruins of the Colosseum --- of the Colosseum to the bustling streets of Trastevere, Rome offers a feast for the senses unlike any other. --- Begin your Roman odyssey with Supplì al Telefono, golden rice croquettes oozing with molten mozzarella. These irresistible snacks, often enjoyed as street food or appetizers, showcase Rome's love --- Rome's love affair with rice and its talent for transforming humble ingredients into culinary delights. --- Alternatively, savor the simplicity of Carciofi alla Romana, tender artichokes simmered in fragrant herbs and olive oil. This classic Roman dish, with its delicate flavors and melt-in-your-mouth --- melt-in-your-mouth texture, is a testament to the city's rich culinary heritage and its love affair with fresh, seasonal produce. --- For a taste of la dolce vita, feast on Cacio e Pepe, a decadent pasta dish featuring al dente spaghetti coated in a velvety sauce of Pecorino Romano and black pepper. This iconic Roman dish, with its --- dish, with its bold flavors and comforting simplicity, captures the essence of Roman cuisine, where the beauty lies in the purity of the ingredients and the skill of the chef. --- Alternatively, indulge in Saltimbocca alla Romana, tender veal cutlets wrapped in prosciutto and sage, sautéed to perfection in a white wine sauce. This iconic Roman dish, with its bold flavors and --- bold flavors and elegant presentation, is a testament to the city's rich culinary heritage and its love affair with the art of cooking. --- As you dine, let the flavors of Rome transport you to a city of ancient wonders and modern marvels, where each dish is a celebration of tradition, flavor, and the eternal spirit of la dolce vita. At --- laughter, love, and the irresistible scent of simmering sauces. --- wine, and lively conversation. --- and the peppery bite of arugula to the umami richness of aged Parmesan and the subtle sweetness of roasted garlic, each component plays a vital role in creating dishes that are layered, complex, and\",\n",
       " 6: \"Chapter 5: Neapolitan Soul --- Journey to the sun-drenched shores of Naples, where the air is filled with the intoxicating scent of wood-fired pizzas and the joyful strains of Neapolitan melodies. From the bustling streets of --- bustling streets of Spaccanapoli to the tranquil waters of the Bay of Naples, Naples offers a feast for the senses unlike any other. --- Begin your culinary escapade with a selection of Antipasti Napoletani, featuring delights like fried calamari, stuffed peppers, and marinated anchovies. These vibrant and flavorful starters, often --- starters, often enjoyed with a glass of local wine, showcase Naples' love affair with seafood and its talent for transforming simple ingredients into culinary masterpieces. --- For mains, delight your palate with Pizza Margherita, the iconic Neapolitan pie adorned with vibrant tomatoes, creamy mozzarella, and fragrant basil. This classic Neapolitan dish, with its crispy --- with its crispy crust and melty cheese, captures the essence of Naples' culinary heritage and its love affair with pizza. --- Alternatively, indulge in Spaghetti alla Puttanesca, a fiery pasta dish bursting with the bold flavors of olives, capers, and anchovies. This iconic Neapolitan dish, with its robust flavors and --- End your meal on a sweet note with a slice of Pastiera Napoletana, a heavenly ricotta and wheat pie perfumed with orange blossom water and adorned with candied citrus. This iconic Neapolitan dessert, --- Neapolitan dessert, with its delicate flavors and rich textures, is a fitting finale to a meal that celebrates the soulful flavors of Naples. --- As you dine, let the flavors of Naples transport you to a city of vibrant colors and rich flavors, where each dish is a celebration of tradition, flavor, and the soulful spirit of Neapolitan cuisine. --- Neapolitan cuisine. At Bella Vista, our Neapolitan-inspired menu invites you to experience the magic of Naples, where every bite is a journey through the city's rich culinary heritage and joyful --- In the bustling streets of Naples, where the aroma of freshly baked pizza mingles with the salty breeze of the Mediterranean, Giovanni Di Napoli was born into a world steeped in culinary tradition.\",\n",
       " 3: \"culinary tradition. From an early age, Giovanni's passion for food was ignited by his Nonna Rosa, whose rustic kitchen served as the heart of their family gatherings, filled with laughter, love, and --- Giovanni's upbringing was deeply rooted in the rich tapestry of Neapolitan culture, where food wasn't merely sustenance but a sacred ritual—a celebration of life itself. His Nonna's culinary prowess, --- Born into a family of artisans and craftsmen, Giovanni's childhood was a symphony of sights, sounds, and flavors—a vibrant mosaic of Neapolitan culture that shaped his culinary journey from the very --- from the very beginning. From helping his Nonna knead dough for homemade pasta to accompanying his Nonno to the bustling markets of Naples, Giovanni's early years were steeped in the traditions and --- Guided by his Nonna's gentle hand and unwavering passion, Giovanni learned the art of cooking not from textbooks or formal training but from the heart—a lesson in flavor, technique, and above all, --- and above all, love. In his Nonna's kitchen, he discovered the magic of simple, honest food made with care and attention to detail—a philosophy that would become the cornerstone of his culinary --- At the tender age of fifteen, Giovanni embarked on a culinary odyssey that would take him from the cobblestone streets of Naples to the bustling kitchens of Rome, Florence, and beyond. Driven by a --- beyond. Driven by a relentless thirst for knowledge and a burning passion for his craft, Giovanni immersed himself in the rich tapestry of Italian cuisine, absorbing the secrets of pasta-making, --- of pasta-making, sauce-simmering, and dough-kneading with unwavering dedication. --- Under the tutelage of master chefs and seasoned artisans, Giovanni honed his skills, refining his palate and expanding his culinary repertoire with each new experience. From the art of crafting --- For Giovanni, hospitality isn't just about serving food; it's about creating an experience that nourishes the body, delights the senses, and touches the soul. From the moment guests step through the --- to the meticulous attention to detail in every dish, Giovanni and his team strive to create an atmosphere of warmth, comfort, and joy, where guests can relax, unwind, and savor the moment. --- techniques, and ingredients to keep his menu fresh, exciting, and relevant. From seasonal specials inspired by the bounty of the earth to innovative reinterpretations of classic dishes, Giovanni's --- dishes, Giovanni's culinary creations are a testament to his creativity, passion, and unwavering commitment to excellence. --- For Giovanni, cooking is more than just a job—it's an art form, a creative expression of his love for food and his deep connection to his heritage. Whether he's experimenting with new flavor --- with new flavor combinations or putting his own spin on traditional recipes, Giovanni approaches each dish with a sense of curiosity, creativity, and reverence for the ingredients that inspire him. --- workshops, or partnerships with local farmers and artisans, Giovanni is dedicated to supporting and nurturing the vibrant tapestry of food culture that thrives in his city, ensuring that future --- For Giovanni, food isn't just about sustenance—it's about connection, community, and shared experiences. Whether he's hosting a cooking class for aspiring chefs or organizing a fundraiser for a local --- for a local charity, Giovanni believes in the power of food to bring people together, bridge divides, and create lasting memories that transcend language, culture, and background. --- shaped him into the chef and the man he is today. But above all, Giovanni's greatest source of pride is the legacy he is building for his own family, passing down the traditions, the recipes, and the --- with loved ones or serving guests at his restaurant, Giovanni's passion for cooking is a reflection of his deep-seated belief in the power of food to nourish the body, uplift the spirit, and bring\",\n",
       " 11: 'culinary prowess, coupled with the vibrant markets of Naples, instilled in him a profound appreciation for fresh, locally sourced ingredients and the time-honored techniques that transformed them --- transformed them into culinary masterpieces. --- the traditions and rituals that would later define his approach to cooking. --- of his culinary identity. --- tapestry of flavors and techniques that would later define his signature style. --- that had shaped him.',\n",
       " 2: \"Chapter 4: The Art of Hospitality --- Chapter 6: A Community of Food Lovers --- we believe that dining should be a multisensory experience that stimulates the senses and nourishes the soul. From the sizzle of garlic hitting hot olive oil to the aroma of freshly baked bread --- freshly baked bread wafting from the oven, every moment in our kitchen is infused with passion, creativity, and a deep appreciation for the art of cooking. Join us as we embark on a culinary journey --- Chapter 8: The Joy of Sharing At Bella Vista, we believe that food has the power to bring people together, to forge connections, and to create lasting memories. Whether you're sharing a leisurely --- sharing a leisurely meal with loved ones, savoring a romantic dinner for two, or simply enjoying a quiet moment of solitude, our dishes are meant to be shared, savored, and celebrated. Join us at\"}"
      ]
     },
     "execution_count": 19,
     "metadata": {},
     "output_type": "execute_result"
    }
   ],
   "source": [
    "clustered_texts"
   ]
  },
  {
   "cell_type": "code",
   "execution_count": 20,
   "metadata": {},
   "outputs": [],
   "source": [
    "from langchain_community.chat_models import ChatOllama\n",
    "model1 = ChatOllama(temperature=0, model='llama3.1')"
   ]
  },
  {
   "cell_type": "code",
   "execution_count": 21,
   "metadata": {},
   "outputs": [],
   "source": [
    "from langchain.prompts import ChatPromptTemplate\n",
    "from langchain_core.output_parsers import StrOutputParser\n",
    "\n",
    "template = \"\"\"You are an assistant to create a detailed summary of the text input prodived.\n",
    "Text:\n",
    "{text}\n",
    "\"\"\"\n",
    "prompt = ChatPromptTemplate.from_template(template)\n",
    "chain = prompt | model1 | StrOutputParser()"
   ]
  },
  {
   "cell_type": "code",
   "execution_count": 22,
   "metadata": {},
   "outputs": [],
   "source": [
    "from tqdm import tqdm"
   ]
  },
  {
   "cell_type": "code",
   "execution_count": 23,
   "metadata": {},
   "outputs": [
    {
     "name": "stderr",
     "output_type": "stream",
     "text": [
      "100%|██████████| 12/12 [02:11<00:00, 10.95s/it]\n"
     ]
    }
   ],
   "source": [
    "summaries = {}\n",
    "for cluster, text in tqdm(clustered_texts.items()):\n",
    "    summary = chain.invoke({\"text\": text})\n",
    "    summaries[cluster] = summary\n"
   ]
  },
  {
   "cell_type": "code",
   "execution_count": 24,
   "metadata": {},
   "outputs": [
    {
     "data": {
      "text/plain": [
       "{1: \"**Detailed Summary**\\n\\nThe text describes a Tuscan-inspired dining experience that transports customers to a simpler time, where meals were savored slowly and each ingredient was cherished for its role in creating culinary magic. The restaurant's philosophy is rooted in a deep reverence for the Mediterranean diet, which celebrates the natural bounty of the land and sea.\\n\\n**Key Features**\\n\\n* **Tuscan-inspired atmosphere**: The dining experience is set against the backdrop of golden hues and earthy aromas reminiscent of sun-kissed landscapes and olive groves.\\n* **Classic dishes**: The menu features traditional Tuscan dishes such as Ribollita, a hearty vegetable soup enriched with cannellini beans and Tuscan kale.\\n* **Emphasis on local ingredients**: The restaurant sources its ingredients from local farms and producers, ensuring the integrity of its produce and contributing to the vibrant food culture in the community.\\n* **Mediterranean diet**: The heart of Italian cuisine lies in the Mediterranean diet, which emphasizes whole grains, fresh fruits and vegetables, lean proteins, and healthy fats.\\n\\n**Key Themes**\\n\\n* **Sustainability**: The restaurant's commitment to sourcing local ingredients and supporting local farmers and producers is a key aspect of its philosophy.\\n* **Quality**: The emphasis on using only the freshest, most flavorful produce available ensures that every dish meets high standards of quality.\\n* **Tradition**: The menu features classic Tuscan dishes that have been passed down through generations, highlighting the importance of tradition in Italian cuisine.\\n\\n**Key Takeaways**\\n\\n* The restaurant offers a unique and immersive dining experience inspired by the beauty of Tuscany.\\n* The emphasis on local ingredients and sustainability sets it apart from other restaurants.\\n* The Mediterranean diet is at the heart of the restaurant's philosophy, emphasizing whole grains, fresh fruits and vegetables, lean proteins, and healthy fats.\",\n",
       " 10: \"Here is a detailed summary of the text:\\n\\n**Summary**\\n\\nThe text describes Tuscany as a region renowned for its breathtaking countryside, rich culinary heritage, and warm hospitality. It highlights the importance of preserving Italian traditions and flavors for future generations. The passage invites readers to join a gastronomic journey through Italy's diverse regions, exploring the essence of Italian cuisine.\\n\\n**Key Points**\\n\\n1. **Tuscany's Culinary Heritage**: Tuscany is celebrated for its rich culinary heritage, with a focus on simplicity, freshness, and flavor.\\n2. **Italian Cuisine**: Italian cuisine is described as a celebration of the land, culture, and people who create it, with every dish reflecting these elements.\\n3. **Pasta Dishes**: The passage highlights the artistry and craftsmanship of Italian chefs in creating pasta dishes that are both timeless and innovative.\\n4. **Regional Inspiration**: Chefs draw inspiration from Italy's diverse regions to create complex and irresistible dishes that pay homage to the country's rich culinary heritage.\\n5. **Gastronomic Journey**: The text invites readers to embark on a culinary journey through Italy, exploring its diverse regions and traditions.\\n\\n**Themes**\\n\\n1. **Preservation of Italian Traditions**: The passage emphasizes the importance of preserving Italian flavors and traditions for future generations.\\n2. **Italian Cuisine as a Celebration**: Italian cuisine is described as a celebration of simplicity, freshness, and flavor, reflecting the land, culture, and people who create it.\\n3. **Regional Inspiration**: The text highlights the diversity of Italy's regions and the inspiration they provide to chefs in creating innovative dishes.\\n\\n**Tone**\\n\\nThe tone of the passage is inviting, enthusiastic, and celebratory, with a focus on exploring the rich culinary heritage of Italy.\",\n",
       " 7: \"Here is a detailed summary of the text:\\n\\n**Summary**\\n\\nThe provided text appears to be an introduction or foreword to a book that tells the story of generations past, highlighting the craftsmanship and heritage of farmers and artisans. The book explores various themes, including the importance of tradition, innovation, and community.\\n\\n**Key Chapters and Themes**\\n\\n1. **Chapter 4: Roman Revival**: This chapter likely celebrates the revival of traditional Roman culture and its influence on modern society.\\n2. **Chapter 1: Roots of Inspiration**: This chapter may delve into the origins of inspiration for the book's themes and stories, possibly exploring the roots of culinary traditions.\\n3. **Chapter 2: A Journey Begins**: This chapter might describe a journey or a process that sets the stage for the rest of the book, perhaps highlighting the importance of tradition and heritage.\\n4. **Chapter 5: The Culinary Visionary**: This chapter could focus on a key figure who has contributed to the culinary world through innovation and creativity.\\n5. **Chapter 6: The Power of Tradition**: This chapter likely emphasizes the significance of honoring traditional practices and customs, particularly in the context of food and culture.\\n6. **Chapter 7: Legacy of Love**: This final chapter may explore how love, family, and community are tied to the preservation of traditions and the passing down of heritage.\\n\\n**Overall Themes**\\n\\n* The importance of tradition and heritage\\n* The value of innovation and creativity in culinary arts\\n* The power of food and culture to bring people together\\n* The significance of honoring time-honored customs and practices\\n\\n**Tone and Style**\\n\\nThe text has a warm, celebratory tone, emphasizing the joy and spirit that comes from sharing traditions and experiences with others. The language is lyrical and evocative, suggesting a book that will be engaging and inspiring to readers.\",\n",
       " 4: \"Here is a detailed summary of the text:\\n\\n**Summary**\\n\\nThe text takes readers on a culinary journey through Italy, highlighting three regions: coastal communities (Cacciucco), Sicily, and Venice. Each section showcases traditional dishes that reflect the unique flavors and cultural heritage of each region.\\n\\n**Section 1: Cacciucco**\\n\\n* Introduces Cacciucco, a rustic seafood stew from coastal communities\\n* Celebrates the abundance of Mediterranean seafood and the fishermen who have sustained generations with their daily catch\\n\\n**Section 2: Flavors of Sicily**\\n\\n* Transports readers to the vibrant island of Sicily, where diverse cultures have created a bold and colorful culinary landscape\\n* Highlights various dishes, including:\\n\\t+ Caponata (sweet and sour eggplant relish)\\n\\t+ Pasta alla Norma (Sicilian classic with eggplant, tomato sauce, and ricotta salata)\\n\\t+ Swordfish Involtini (tender fish rolls filled with breadcrumbs, pine nuts, and raisins)\\n\\n**Section 3: Venice**\\n\\n* Introduces Bella Vista, a restaurant that showcases Venice's love affair with seafood\\n* Highlights the city's talent for transforming simple ingredients into culinary masterpieces\\n* Features dishes such as:\\n\\t+ A seafood dish (no specific name mentioned) that captures the essence of Venice's maritime heritage\\n\\n**Common Themes**\\n\\nThroughout the text, several common themes emerge:\\n\\n* The importance of local seafood in Italian cuisine\\n* The blending of cultures and traditions to create unique flavors and dishes\\n* The celebration of Italy's rich culinary history and heritage\\n* The emphasis on using simple ingredients to create culinary masterpieces\",\n",
       " 5: \"Here is a detailed summary of the text:\\n\\n**Introduction**\\n\\nThe text invites readers to experience the essence of Italy through its cuisine, specifically highlighting three regions: Tuscany, Sicily, and Venice.\\n\\n**Tuscany**\\n\\n* The introduction describes sipping Chianti wine in Tuscany and experiencing la dolce vita (the sweet life).\\n* Bella Vista's Tuscan-inspired menu is presented as a celebration of tradition, flavor, and the timeless beauty of Tuscany.\\n* No specific dishes are mentioned for this section.\\n\\n**Sicily**\\n\\n* The text briefly mentions Sicily as a feast for the senses, comparing it to other Italian regions.\\n* However, no further details or menu items are provided for Sicily in this summary.\\n\\n**Venetian Elegance (Chapter 3)**\\n\\n* This section focuses on Venice and its culinary heritage and maritime traditions.\\n* The menu features Cicchetti, bite-sized Venetian snacks, including creamy bacalà mantecato and delicate baccalà fritters.\\n* A decadent slice of Tiramisu is also highlighted as a fitting finale to a meal that lifts the spirits and satisfies the soul.\\n\\n**Venice (Continued)**\\n\\n* The text emphasizes the importance of Venetian cuisine, highlighting its creativity and ingenuity.\\n* Bella Vista's Venetian-inspired menu invites readers to experience the magic of Venice through every bite.\\n\\n**Roman-Inspired Menu**\\n\\n* This section is not explicitly titled but appears to be a separate chapter (Chapter 6).\\n* The text mentions that Bella Vista's Roman-inspired menu invites readers to experience the magic of Rome, with every bite being a journey through the city's rich culinary heritage and timeless traditions.\\n* No specific dishes are mentioned for this section.\\n\\n**A Symphony of Flavors (Chapter 5)**\\n\\n* This section discusses Italian cuisine's bold and vibrant flavors, achieved through balancing sweet, sour, salty, and savory elements.\\n* Bella Vista is highlighted as a restaurant that stays true to its roots and ensures every dish is a tribute to the rich culinary heritage of Italy.\\n\\n**A Feast for the Senses (Chapter 7)**\\n\\n* The final section emphasizes that Italian cuisine is more than just food; it's a feast for the senses that engages sight, smell, taste, and touch in equal measure.\\n* Bella Vista is presented as a restaurant that believes in this concept and invites readers to experience it.\\n\\nOverall, the text highlights Bella Vista's various menus inspired by different regions of Italy (Tuscany, Venice, Rome) and emphasizes the importance of Italian cuisine as a feast for the senses.\",\n",
       " 0: \"**Summary:**\\n\\nThe text describes three traditional Italian dishes that showcase the country's rich culinary heritage. These dishes are:\\n\\n1. **Arancini**: A Sicilian street food/appetizer consisting of saffron-infused risotto balls stuffed with ragù and molten cheese.\\n2. **Risotto al Nero di Seppia**: A luxurious Venetian dish featuring a black squid ink risotto topped with shrimp, calamari, and other seafood elements.\\n3. **Risi e Bisi**: A comforting springtime risotto dish enriched with sweet peas and pancetta.\\n\\nThe text highlights the diversity and complexity of Italian cuisine, emphasizing the importance of balancing flavors in traditional dishes like ragù. The author also mentions Giovanni's expertise in crafting perfect risottos, which is not explicitly related to any specific dish but rather a testament to his skill as an Italian chef.\",\n",
       " 9: \"Here is a detailed summary of the text:\\n\\n**Introduction**\\n\\n* The introduction welcomes readers to Bella Vista, a restaurant that celebrates Italian cuisine and hospitality.\\n* The menu at Bella Vista is inspired by Sicilian flavors and traditions.\\n\\n**Chapter 3: The Birth of Bella Vista**\\n\\n* Giovanni, the founder of Bella Vista, had a vision to share the flavors of his homeland with the world.\\n* He created Bella Vista as a culinary sanctuary where people could experience authentic Italian cuisine.\\n* The restaurant quickly became a beacon of authenticity, attracting food lovers from far and wide.\\n\\n**Giovanni's Philosophy**\\n\\n* For Giovanni, Bella Vista is not just a restaurant, but a labor of love, a tribute to his roots, and a testament to the power of food to bring people together.\\n* He is committed to excellence and reverence for culinary traditions that have shaped Italian cuisine.\\n* Hospitality is a way of life at Bella Vista, where staff are friendly and welcoming.\\n\\n**Giovanni's Commitment**\\n\\n* Giovanni is constantly pushing the boundaries of Italian cuisine, exploring new flavors, techniques, and ingredients.\\n* He is deeply committed to giving back to the community through charitable events, culinary workshops, and other initiatives.\\n\\n**Legacy and Testimony**\\n\\n* For Giovanni, Bella Vista is a legacy that represents his love for food, family, and Italian culture.\\n* The restaurant is a testament to his experiences, mentors, and moments that have shaped him into the person he is today.\\n\\n**Key Principles of Bella Vista**\\n\\n* At Bella Vista, we believe in embracing local farmers, fishermen, and artisans to source the finest seasonal ingredients.\\n* We take pride in our pasta-making traditions and craft each batch with care and precision.\\n* Our chefs draw on a rich palette of ingredients and seasonings to create dishes that are satisfying and memorable.\\n\\n**Conclusion**\\n\\n* Bella Vista is a place where people come together to share meals, break bread, and revel in the simple pleasures of good food, good company, and shared experiences.\\n* The restaurant invites readers to join them at Bella Vista, where every meal is an opportunity to experience authentic Italian cuisine and hospitality.\",\n",
       " 8: \"Here is a detailed summary of the text:\\n\\n**Summary**\\n\\nThe city of Rome offers a unique culinary experience that blends ancient traditions with modern flair. The city's rich history and love for fresh, seasonal produce result in a diverse range of delicious dishes that showcase its culinary heritage.\\n\\n**Key Dishes Highlighted**\\n\\n1. **Supplì al Telefono**: Golden rice croquettes filled with molten mozzarella cheese, enjoyed as street food or appetizers.\\n2. **Carciofi alla Romana**: Tender artichokes simmered in fragrant herbs and olive oil, a classic Roman dish with delicate flavors and melt-in-your-mouth texture.\\n3. **Cacio e Pepe**: A decadent pasta dish featuring al dente spaghetti coated in a velvety sauce of Pecorino Romano cheese and black pepper, capturing the essence of Roman cuisine.\\n4. **Saltimbocca alla Romana**: Tender veal cutlets wrapped in prosciutto and sage, sautéed to perfection in a white wine sauce.\\n\\n**Themes**\\n\\n* The city's love affair with rice and its talent for transforming humble ingredients into culinary delights.\\n* The importance of fresh, seasonal produce in Roman cuisine.\\n* The beauty of simplicity and the skill of the chef in creating iconic dishes.\\n* The celebration of tradition, flavor, and la dolce vita (the sweet life) through food.\\n\\n**Tone**\\n\\nThe text has a warm, inviting tone that evokes a sense of wonder and appreciation for the culinary experience offered by Rome. It encourages readers to indulge in the city's rich flavors and traditions, and to let the food transport them to a world of ancient wonders and modern marvels.\",\n",
       " 6: 'Here is a detailed summary of the text:\\n\\n**Summary**\\n\\nThe chapter \"Neapolitan Soul\" takes readers on a culinary journey to Naples, Italy, where they can experience the city\\'s vibrant culture and rich flavors. From the bustling streets of Spaccanapoli to the tranquil waters of the Bay of Naples, Naples offers a feast for the senses that is unlike any other.\\n\\n**Key Points**\\n\\n1. **Antipasti Napoletani**: The chapter begins with a selection of Neapolitan appetizers, including fried calamari, stuffed peppers, and marinated anchovies, which showcase Naples\\' love affair with seafood.\\n2. **Pizza Margherita**: The iconic Neapolitan pizza is featured as the main course, with its crispy crust and melty cheese capturing the essence of Naples\\' culinary heritage.\\n3. **Spaghetti alla Puttanesca**: This fiery pasta dish bursts with bold flavors from olives, capers, and anchovies, making it a must-try for those who want to experience the robust flavors of Neapolitan cuisine.\\n4. **Pastiera Napoletana**: The chapter concludes with a sweet treat, Pastiera Napoletana, a ricotta and wheat pie perfumed with orange blossom water and adorned with candied citrus.\\n\\n**Key Themes**\\n\\n1. **Neapolitan Cuisine**: The chapter highlights the soulful flavors of Neapolitan cuisine, which is characterized by its rich tradition, vibrant colors, and joyful spirit.\\n2. **Culinary Heritage**: Naples\\' culinary heritage is celebrated through its dishes, which are often simple yet flavorful, showcasing the city\\'s love affair with seafood and pizza.\\n3. **Flavors and Traditions**: The chapter emphasizes the importance of flavors and traditions in Neapolitan cuisine, where each dish is a celebration of the city\\'s rich history and culture.\\n\\n**Additional Information**\\n\\n1. **Bella Vista**: The chapter mentions Bella Vista, a restaurant that offers a Neapolitan-inspired menu, inviting customers to experience the magic of Naples through its dishes.\\n2. **Giovanni Di Napoli**: The chapter concludes with a brief mention of Giovanni Di Napoli, who was born into a world steeped in culinary tradition in the bustling streets of Naples.\\n\\nOverall, this summary provides an overview of the text\\'s key points, themes, and additional information, highlighting the rich flavors and traditions of Neapolitan cuisine.',\n",
       " 3: \"Here is a detailed summary of the text:\\n\\n**Early Life and Inspiration**\\n\\nGiovanni was raised in a family that valued culinary tradition and culture. His Nonna Rosa's kitchen was the heart of their family gatherings, where love, laughter, and delicious food were shared. From a young age, Giovanni was passionate about food, learning the art of cooking from his Nonna's gentle hand and unwavering passion.\\n\\n**Culinary Journey**\\n\\nGiovanni's childhood was steeped in Neapolitan culture, where food was a sacred ritual that celebrated life itself. He learned the art of pasta-making, sauce-simmering, and dough-kneading with dedication and enthusiasm. At 15, he embarked on a culinary odyssey that took him from Naples to Rome, Florence, and beyond.\\n\\n**Apprenticeship and Training**\\n\\nUnder the tutelage of master chefs and seasoned artisans, Giovanni honed his skills, refining his palate and expanding his culinary repertoire. He absorbed the secrets of traditional Italian cuisine, learning techniques and ingredients that would become the cornerstone of his own cooking style.\\n\\n**Philosophy and Approach**\\n\\nFor Giovanni, hospitality is not just about serving food; it's about creating an experience that nourishes the body, delights the senses, and touches the soul. He strives to create a warm, comfortable atmosphere where guests can relax and savor the moment. His menu is constantly evolving, with seasonal specials inspired by the bounty of the earth and innovative reinterpretations of classic dishes.\\n\\n**Passion and Creativity**\\n\\nGiovanni's passion for cooking is an art form that expresses his love for food and deep connection to his heritage. He approaches each dish with curiosity, creativity, and reverence for the ingredients that inspire him. Whether experimenting with new flavor combinations or putting his own spin on traditional recipes, Giovanni's culinary creations are a testament to his creativity and commitment to excellence.\\n\\n**Community and Legacy**\\n\\nFor Giovanni, food is not just about sustenance; it's about connection, community, and shared experiences. He believes in the power of food to bring people together, bridge divides, and create lasting memories that transcend language, culture, and background. His greatest source of pride is building a legacy for his own family, passing down traditions, recipes, and values to future generations.\\n\\n**Key Themes**\\n\\n* The importance of culinary tradition and heritage\\n* The power of food to bring people together and create shared experiences\\n* Giovanni's passion for cooking as an art form that expresses love and creativity\\n* His commitment to excellence and innovation in the kitchen\\n* The value of community, connection, and legacy in his approach to food and hospitality.\",\n",
       " 11: \"Here is a detailed summary of the text:\\n\\n**Summary:**\\n\\nThe passage describes how someone developed their culinary skills and appreciation for fresh, locally sourced ingredients in Naples. This experience instilled in them a deep respect for traditional cooking techniques and methods, which ultimately defined their approach to cooking.\\n\\n**Key Points:**\\n\\n1. **Culinary Prowess**: The person's cooking abilities were enhanced by the vibrant markets of Naples.\\n2. **Appreciation for Fresh Ingredients**: They developed an appreciation for using fresh, locally sourced ingredients in their cooking.\\n3. **Traditional Techniques**: They learned and respected traditional cooking techniques that transformed ingredients into culinary masterpieces.\\n4. **Culinary Identity**: These experiences shaped their approach to cooking and defined their culinary identity.\\n5. **Signature Style**: The combination of flavors and techniques they learned created a unique signature style.\\n\\n**Themes:**\\n\\n1. **Appreciation for Local Ingredients**: The importance of using fresh, locally sourced ingredients in cooking is highlighted.\\n2. **Respect for Traditional Techniques**: The passage emphasizes the value of traditional cooking methods and their role in shaping one's culinary identity.\\n3. **Culinary Identity**: The text explores how experiences and techniques shape a person's approach to cooking and define their signature style.\",\n",
       " 2: \"Here is a detailed summary of the text:\\n\\n**Summary**\\n\\nThe provided text appears to be an introduction to a restaurant concept called Bella Vista. The main theme revolves around the art of hospitality, community, and the joy of sharing food experiences.\\n\\n**Key Points**\\n\\n1. **Multisensory Dining Experience**: The restaurant aims to create a dining experience that stimulates the senses and nourishes the soul.\\n2. **Passion for Cooking**: Every moment in the kitchen is infused with passion, creativity, and appreciation for the art of cooking.\\n3. **Community Building**: Food has the power to bring people together, forge connections, and create lasting memories.\\n4. **Sharing and Celebration**: The restaurant's dishes are meant to be shared, savored, and celebrated, whether it's a leisurely meal with loved ones or a quiet moment of solitude.\\n\\n**Key Emotions and Values**\\n\\n1. **Passion**: The text conveys the passion and enthusiasm for cooking and sharing food experiences.\\n2. **Community**: The restaurant values building connections and creating memories through shared meals.\\n3. **Joy**: The joy of sharing food is emphasized, whether it's with loved ones or alone.\\n\\n**Key Themes**\\n\\n1. **Hospitality**: The art of hospitality is a central theme, focusing on creating a welcoming and memorable experience for customers.\\n2. **Food Culture**: The text highlights the importance of food in bringing people together and creating lasting memories.\\n3. **Emotional Connection**: The restaurant aims to create an emotional connection with its customers through shared experiences and delicious food.\"}"
      ]
     },
     "execution_count": 24,
     "metadata": {},
     "output_type": "execute_result"
    }
   ],
   "source": [
    "summaries"
   ]
  },
  {
   "cell_type": "code",
   "execution_count": 25,
   "metadata": {},
   "outputs": [],
   "source": [
    "embedded_summaries = [model.encode(summary) for summary in summaries.values()]"
   ]
  },
  {
   "cell_type": "code",
   "execution_count": 26,
   "metadata": {},
   "outputs": [],
   "source": [
    "embedded_summaries_np = np.array(embedded_summaries)\n",
    "\n",
    "labels, _ = gmm_clustering(embedded_summaries_np, threshold=0.5)\n",
    "\n",
    "simple_labels = [label[0] if len(label) > 0 else -1 for label in labels]"
   ]
  },
  {
   "cell_type": "code",
   "execution_count": 27,
   "metadata": {},
   "outputs": [
    {
     "data": {
      "text/plain": [
       "[0, 0, 0, 0, 0, 0, 0, 0, 0, 0, 0, 0]"
      ]
     },
     "execution_count": 27,
     "metadata": {},
     "output_type": "execute_result"
    }
   ],
   "source": [
    "simple_labels"
   ]
  },
  {
   "cell_type": "code",
   "execution_count": 28,
   "metadata": {},
   "outputs": [],
   "source": [
    "clustered_summaries = {}\n",
    "for i, label in enumerate(simple_labels):\n",
    "    if label not in clustered_summaries:\n",
    "        clustered_summaries[label] = []\n",
    "    \n",
    "    clustered_summaries[label].append(list(summaries.values())[i])"
   ]
  },
  {
   "cell_type": "code",
   "execution_count": 29,
   "metadata": {},
   "outputs": [
    {
     "data": {
      "text/plain": [
       "{0: [\"**Detailed Summary**\\n\\nThe text describes a Tuscan-inspired dining experience that transports customers to a simpler time, where meals were savored slowly and each ingredient was cherished for its role in creating culinary magic. The restaurant's philosophy is rooted in a deep reverence for the Mediterranean diet, which celebrates the natural bounty of the land and sea.\\n\\n**Key Features**\\n\\n* **Tuscan-inspired atmosphere**: The dining experience is set against the backdrop of golden hues and earthy aromas reminiscent of sun-kissed landscapes and olive groves.\\n* **Classic dishes**: The menu features traditional Tuscan dishes such as Ribollita, a hearty vegetable soup enriched with cannellini beans and Tuscan kale.\\n* **Emphasis on local ingredients**: The restaurant sources its ingredients from local farms and producers, ensuring the integrity of its produce and contributing to the vibrant food culture in the community.\\n* **Mediterranean diet**: The heart of Italian cuisine lies in the Mediterranean diet, which emphasizes whole grains, fresh fruits and vegetables, lean proteins, and healthy fats.\\n\\n**Key Themes**\\n\\n* **Sustainability**: The restaurant's commitment to sourcing local ingredients and supporting local farmers and producers is a key aspect of its philosophy.\\n* **Quality**: The emphasis on using only the freshest, most flavorful produce available ensures that every dish meets high standards of quality.\\n* **Tradition**: The menu features classic Tuscan dishes that have been passed down through generations, highlighting the importance of tradition in Italian cuisine.\\n\\n**Key Takeaways**\\n\\n* The restaurant offers a unique and immersive dining experience inspired by the beauty of Tuscany.\\n* The emphasis on local ingredients and sustainability sets it apart from other restaurants.\\n* The Mediterranean diet is at the heart of the restaurant's philosophy, emphasizing whole grains, fresh fruits and vegetables, lean proteins, and healthy fats.\",\n",
       "  \"Here is a detailed summary of the text:\\n\\n**Summary**\\n\\nThe text describes Tuscany as a region renowned for its breathtaking countryside, rich culinary heritage, and warm hospitality. It highlights the importance of preserving Italian traditions and flavors for future generations. The passage invites readers to join a gastronomic journey through Italy's diverse regions, exploring the essence of Italian cuisine.\\n\\n**Key Points**\\n\\n1. **Tuscany's Culinary Heritage**: Tuscany is celebrated for its rich culinary heritage, with a focus on simplicity, freshness, and flavor.\\n2. **Italian Cuisine**: Italian cuisine is described as a celebration of the land, culture, and people who create it, with every dish reflecting these elements.\\n3. **Pasta Dishes**: The passage highlights the artistry and craftsmanship of Italian chefs in creating pasta dishes that are both timeless and innovative.\\n4. **Regional Inspiration**: Chefs draw inspiration from Italy's diverse regions to create complex and irresistible dishes that pay homage to the country's rich culinary heritage.\\n5. **Gastronomic Journey**: The text invites readers to embark on a culinary journey through Italy, exploring its diverse regions and traditions.\\n\\n**Themes**\\n\\n1. **Preservation of Italian Traditions**: The passage emphasizes the importance of preserving Italian flavors and traditions for future generations.\\n2. **Italian Cuisine as a Celebration**: Italian cuisine is described as a celebration of simplicity, freshness, and flavor, reflecting the land, culture, and people who create it.\\n3. **Regional Inspiration**: The text highlights the diversity of Italy's regions and the inspiration they provide to chefs in creating innovative dishes.\\n\\n**Tone**\\n\\nThe tone of the passage is inviting, enthusiastic, and celebratory, with a focus on exploring the rich culinary heritage of Italy.\",\n",
       "  \"Here is a detailed summary of the text:\\n\\n**Summary**\\n\\nThe provided text appears to be an introduction or foreword to a book that tells the story of generations past, highlighting the craftsmanship and heritage of farmers and artisans. The book explores various themes, including the importance of tradition, innovation, and community.\\n\\n**Key Chapters and Themes**\\n\\n1. **Chapter 4: Roman Revival**: This chapter likely celebrates the revival of traditional Roman culture and its influence on modern society.\\n2. **Chapter 1: Roots of Inspiration**: This chapter may delve into the origins of inspiration for the book's themes and stories, possibly exploring the roots of culinary traditions.\\n3. **Chapter 2: A Journey Begins**: This chapter might describe a journey or a process that sets the stage for the rest of the book, perhaps highlighting the importance of tradition and heritage.\\n4. **Chapter 5: The Culinary Visionary**: This chapter could focus on a key figure who has contributed to the culinary world through innovation and creativity.\\n5. **Chapter 6: The Power of Tradition**: This chapter likely emphasizes the significance of honoring traditional practices and customs, particularly in the context of food and culture.\\n6. **Chapter 7: Legacy of Love**: This final chapter may explore how love, family, and community are tied to the preservation of traditions and the passing down of heritage.\\n\\n**Overall Themes**\\n\\n* The importance of tradition and heritage\\n* The value of innovation and creativity in culinary arts\\n* The power of food and culture to bring people together\\n* The significance of honoring time-honored customs and practices\\n\\n**Tone and Style**\\n\\nThe text has a warm, celebratory tone, emphasizing the joy and spirit that comes from sharing traditions and experiences with others. The language is lyrical and evocative, suggesting a book that will be engaging and inspiring to readers.\",\n",
       "  \"Here is a detailed summary of the text:\\n\\n**Summary**\\n\\nThe text takes readers on a culinary journey through Italy, highlighting three regions: coastal communities (Cacciucco), Sicily, and Venice. Each section showcases traditional dishes that reflect the unique flavors and cultural heritage of each region.\\n\\n**Section 1: Cacciucco**\\n\\n* Introduces Cacciucco, a rustic seafood stew from coastal communities\\n* Celebrates the abundance of Mediterranean seafood and the fishermen who have sustained generations with their daily catch\\n\\n**Section 2: Flavors of Sicily**\\n\\n* Transports readers to the vibrant island of Sicily, where diverse cultures have created a bold and colorful culinary landscape\\n* Highlights various dishes, including:\\n\\t+ Caponata (sweet and sour eggplant relish)\\n\\t+ Pasta alla Norma (Sicilian classic with eggplant, tomato sauce, and ricotta salata)\\n\\t+ Swordfish Involtini (tender fish rolls filled with breadcrumbs, pine nuts, and raisins)\\n\\n**Section 3: Venice**\\n\\n* Introduces Bella Vista, a restaurant that showcases Venice's love affair with seafood\\n* Highlights the city's talent for transforming simple ingredients into culinary masterpieces\\n* Features dishes such as:\\n\\t+ A seafood dish (no specific name mentioned) that captures the essence of Venice's maritime heritage\\n\\n**Common Themes**\\n\\nThroughout the text, several common themes emerge:\\n\\n* The importance of local seafood in Italian cuisine\\n* The blending of cultures and traditions to create unique flavors and dishes\\n* The celebration of Italy's rich culinary history and heritage\\n* The emphasis on using simple ingredients to create culinary masterpieces\",\n",
       "  \"Here is a detailed summary of the text:\\n\\n**Introduction**\\n\\nThe text invites readers to experience the essence of Italy through its cuisine, specifically highlighting three regions: Tuscany, Sicily, and Venice.\\n\\n**Tuscany**\\n\\n* The introduction describes sipping Chianti wine in Tuscany and experiencing la dolce vita (the sweet life).\\n* Bella Vista's Tuscan-inspired menu is presented as a celebration of tradition, flavor, and the timeless beauty of Tuscany.\\n* No specific dishes are mentioned for this section.\\n\\n**Sicily**\\n\\n* The text briefly mentions Sicily as a feast for the senses, comparing it to other Italian regions.\\n* However, no further details or menu items are provided for Sicily in this summary.\\n\\n**Venetian Elegance (Chapter 3)**\\n\\n* This section focuses on Venice and its culinary heritage and maritime traditions.\\n* The menu features Cicchetti, bite-sized Venetian snacks, including creamy bacalà mantecato and delicate baccalà fritters.\\n* A decadent slice of Tiramisu is also highlighted as a fitting finale to a meal that lifts the spirits and satisfies the soul.\\n\\n**Venice (Continued)**\\n\\n* The text emphasizes the importance of Venetian cuisine, highlighting its creativity and ingenuity.\\n* Bella Vista's Venetian-inspired menu invites readers to experience the magic of Venice through every bite.\\n\\n**Roman-Inspired Menu**\\n\\n* This section is not explicitly titled but appears to be a separate chapter (Chapter 6).\\n* The text mentions that Bella Vista's Roman-inspired menu invites readers to experience the magic of Rome, with every bite being a journey through the city's rich culinary heritage and timeless traditions.\\n* No specific dishes are mentioned for this section.\\n\\n**A Symphony of Flavors (Chapter 5)**\\n\\n* This section discusses Italian cuisine's bold and vibrant flavors, achieved through balancing sweet, sour, salty, and savory elements.\\n* Bella Vista is highlighted as a restaurant that stays true to its roots and ensures every dish is a tribute to the rich culinary heritage of Italy.\\n\\n**A Feast for the Senses (Chapter 7)**\\n\\n* The final section emphasizes that Italian cuisine is more than just food; it's a feast for the senses that engages sight, smell, taste, and touch in equal measure.\\n* Bella Vista is presented as a restaurant that believes in this concept and invites readers to experience it.\\n\\nOverall, the text highlights Bella Vista's various menus inspired by different regions of Italy (Tuscany, Venice, Rome) and emphasizes the importance of Italian cuisine as a feast for the senses.\",\n",
       "  \"**Summary:**\\n\\nThe text describes three traditional Italian dishes that showcase the country's rich culinary heritage. These dishes are:\\n\\n1. **Arancini**: A Sicilian street food/appetizer consisting of saffron-infused risotto balls stuffed with ragù and molten cheese.\\n2. **Risotto al Nero di Seppia**: A luxurious Venetian dish featuring a black squid ink risotto topped with shrimp, calamari, and other seafood elements.\\n3. **Risi e Bisi**: A comforting springtime risotto dish enriched with sweet peas and pancetta.\\n\\nThe text highlights the diversity and complexity of Italian cuisine, emphasizing the importance of balancing flavors in traditional dishes like ragù. The author also mentions Giovanni's expertise in crafting perfect risottos, which is not explicitly related to any specific dish but rather a testament to his skill as an Italian chef.\",\n",
       "  \"Here is a detailed summary of the text:\\n\\n**Introduction**\\n\\n* The introduction welcomes readers to Bella Vista, a restaurant that celebrates Italian cuisine and hospitality.\\n* The menu at Bella Vista is inspired by Sicilian flavors and traditions.\\n\\n**Chapter 3: The Birth of Bella Vista**\\n\\n* Giovanni, the founder of Bella Vista, had a vision to share the flavors of his homeland with the world.\\n* He created Bella Vista as a culinary sanctuary where people could experience authentic Italian cuisine.\\n* The restaurant quickly became a beacon of authenticity, attracting food lovers from far and wide.\\n\\n**Giovanni's Philosophy**\\n\\n* For Giovanni, Bella Vista is not just a restaurant, but a labor of love, a tribute to his roots, and a testament to the power of food to bring people together.\\n* He is committed to excellence and reverence for culinary traditions that have shaped Italian cuisine.\\n* Hospitality is a way of life at Bella Vista, where staff are friendly and welcoming.\\n\\n**Giovanni's Commitment**\\n\\n* Giovanni is constantly pushing the boundaries of Italian cuisine, exploring new flavors, techniques, and ingredients.\\n* He is deeply committed to giving back to the community through charitable events, culinary workshops, and other initiatives.\\n\\n**Legacy and Testimony**\\n\\n* For Giovanni, Bella Vista is a legacy that represents his love for food, family, and Italian culture.\\n* The restaurant is a testament to his experiences, mentors, and moments that have shaped him into the person he is today.\\n\\n**Key Principles of Bella Vista**\\n\\n* At Bella Vista, we believe in embracing local farmers, fishermen, and artisans to source the finest seasonal ingredients.\\n* We take pride in our pasta-making traditions and craft each batch with care and precision.\\n* Our chefs draw on a rich palette of ingredients and seasonings to create dishes that are satisfying and memorable.\\n\\n**Conclusion**\\n\\n* Bella Vista is a place where people come together to share meals, break bread, and revel in the simple pleasures of good food, good company, and shared experiences.\\n* The restaurant invites readers to join them at Bella Vista, where every meal is an opportunity to experience authentic Italian cuisine and hospitality.\",\n",
       "  \"Here is a detailed summary of the text:\\n\\n**Summary**\\n\\nThe city of Rome offers a unique culinary experience that blends ancient traditions with modern flair. The city's rich history and love for fresh, seasonal produce result in a diverse range of delicious dishes that showcase its culinary heritage.\\n\\n**Key Dishes Highlighted**\\n\\n1. **Supplì al Telefono**: Golden rice croquettes filled with molten mozzarella cheese, enjoyed as street food or appetizers.\\n2. **Carciofi alla Romana**: Tender artichokes simmered in fragrant herbs and olive oil, a classic Roman dish with delicate flavors and melt-in-your-mouth texture.\\n3. **Cacio e Pepe**: A decadent pasta dish featuring al dente spaghetti coated in a velvety sauce of Pecorino Romano cheese and black pepper, capturing the essence of Roman cuisine.\\n4. **Saltimbocca alla Romana**: Tender veal cutlets wrapped in prosciutto and sage, sautéed to perfection in a white wine sauce.\\n\\n**Themes**\\n\\n* The city's love affair with rice and its talent for transforming humble ingredients into culinary delights.\\n* The importance of fresh, seasonal produce in Roman cuisine.\\n* The beauty of simplicity and the skill of the chef in creating iconic dishes.\\n* The celebration of tradition, flavor, and la dolce vita (the sweet life) through food.\\n\\n**Tone**\\n\\nThe text has a warm, inviting tone that evokes a sense of wonder and appreciation for the culinary experience offered by Rome. It encourages readers to indulge in the city's rich flavors and traditions, and to let the food transport them to a world of ancient wonders and modern marvels.\",\n",
       "  'Here is a detailed summary of the text:\\n\\n**Summary**\\n\\nThe chapter \"Neapolitan Soul\" takes readers on a culinary journey to Naples, Italy, where they can experience the city\\'s vibrant culture and rich flavors. From the bustling streets of Spaccanapoli to the tranquil waters of the Bay of Naples, Naples offers a feast for the senses that is unlike any other.\\n\\n**Key Points**\\n\\n1. **Antipasti Napoletani**: The chapter begins with a selection of Neapolitan appetizers, including fried calamari, stuffed peppers, and marinated anchovies, which showcase Naples\\' love affair with seafood.\\n2. **Pizza Margherita**: The iconic Neapolitan pizza is featured as the main course, with its crispy crust and melty cheese capturing the essence of Naples\\' culinary heritage.\\n3. **Spaghetti alla Puttanesca**: This fiery pasta dish bursts with bold flavors from olives, capers, and anchovies, making it a must-try for those who want to experience the robust flavors of Neapolitan cuisine.\\n4. **Pastiera Napoletana**: The chapter concludes with a sweet treat, Pastiera Napoletana, a ricotta and wheat pie perfumed with orange blossom water and adorned with candied citrus.\\n\\n**Key Themes**\\n\\n1. **Neapolitan Cuisine**: The chapter highlights the soulful flavors of Neapolitan cuisine, which is characterized by its rich tradition, vibrant colors, and joyful spirit.\\n2. **Culinary Heritage**: Naples\\' culinary heritage is celebrated through its dishes, which are often simple yet flavorful, showcasing the city\\'s love affair with seafood and pizza.\\n3. **Flavors and Traditions**: The chapter emphasizes the importance of flavors and traditions in Neapolitan cuisine, where each dish is a celebration of the city\\'s rich history and culture.\\n\\n**Additional Information**\\n\\n1. **Bella Vista**: The chapter mentions Bella Vista, a restaurant that offers a Neapolitan-inspired menu, inviting customers to experience the magic of Naples through its dishes.\\n2. **Giovanni Di Napoli**: The chapter concludes with a brief mention of Giovanni Di Napoli, who was born into a world steeped in culinary tradition in the bustling streets of Naples.\\n\\nOverall, this summary provides an overview of the text\\'s key points, themes, and additional information, highlighting the rich flavors and traditions of Neapolitan cuisine.',\n",
       "  \"Here is a detailed summary of the text:\\n\\n**Early Life and Inspiration**\\n\\nGiovanni was raised in a family that valued culinary tradition and culture. His Nonna Rosa's kitchen was the heart of their family gatherings, where love, laughter, and delicious food were shared. From a young age, Giovanni was passionate about food, learning the art of cooking from his Nonna's gentle hand and unwavering passion.\\n\\n**Culinary Journey**\\n\\nGiovanni's childhood was steeped in Neapolitan culture, where food was a sacred ritual that celebrated life itself. He learned the art of pasta-making, sauce-simmering, and dough-kneading with dedication and enthusiasm. At 15, he embarked on a culinary odyssey that took him from Naples to Rome, Florence, and beyond.\\n\\n**Apprenticeship and Training**\\n\\nUnder the tutelage of master chefs and seasoned artisans, Giovanni honed his skills, refining his palate and expanding his culinary repertoire. He absorbed the secrets of traditional Italian cuisine, learning techniques and ingredients that would become the cornerstone of his own cooking style.\\n\\n**Philosophy and Approach**\\n\\nFor Giovanni, hospitality is not just about serving food; it's about creating an experience that nourishes the body, delights the senses, and touches the soul. He strives to create a warm, comfortable atmosphere where guests can relax and savor the moment. His menu is constantly evolving, with seasonal specials inspired by the bounty of the earth and innovative reinterpretations of classic dishes.\\n\\n**Passion and Creativity**\\n\\nGiovanni's passion for cooking is an art form that expresses his love for food and deep connection to his heritage. He approaches each dish with curiosity, creativity, and reverence for the ingredients that inspire him. Whether experimenting with new flavor combinations or putting his own spin on traditional recipes, Giovanni's culinary creations are a testament to his creativity and commitment to excellence.\\n\\n**Community and Legacy**\\n\\nFor Giovanni, food is not just about sustenance; it's about connection, community, and shared experiences. He believes in the power of food to bring people together, bridge divides, and create lasting memories that transcend language, culture, and background. His greatest source of pride is building a legacy for his own family, passing down traditions, recipes, and values to future generations.\\n\\n**Key Themes**\\n\\n* The importance of culinary tradition and heritage\\n* The power of food to bring people together and create shared experiences\\n* Giovanni's passion for cooking as an art form that expresses love and creativity\\n* His commitment to excellence and innovation in the kitchen\\n* The value of community, connection, and legacy in his approach to food and hospitality.\",\n",
       "  \"Here is a detailed summary of the text:\\n\\n**Summary:**\\n\\nThe passage describes how someone developed their culinary skills and appreciation for fresh, locally sourced ingredients in Naples. This experience instilled in them a deep respect for traditional cooking techniques and methods, which ultimately defined their approach to cooking.\\n\\n**Key Points:**\\n\\n1. **Culinary Prowess**: The person's cooking abilities were enhanced by the vibrant markets of Naples.\\n2. **Appreciation for Fresh Ingredients**: They developed an appreciation for using fresh, locally sourced ingredients in their cooking.\\n3. **Traditional Techniques**: They learned and respected traditional cooking techniques that transformed ingredients into culinary masterpieces.\\n4. **Culinary Identity**: These experiences shaped their approach to cooking and defined their culinary identity.\\n5. **Signature Style**: The combination of flavors and techniques they learned created a unique signature style.\\n\\n**Themes:**\\n\\n1. **Appreciation for Local Ingredients**: The importance of using fresh, locally sourced ingredients in cooking is highlighted.\\n2. **Respect for Traditional Techniques**: The passage emphasizes the value of traditional cooking methods and their role in shaping one's culinary identity.\\n3. **Culinary Identity**: The text explores how experiences and techniques shape a person's approach to cooking and define their signature style.\",\n",
       "  \"Here is a detailed summary of the text:\\n\\n**Summary**\\n\\nThe provided text appears to be an introduction to a restaurant concept called Bella Vista. The main theme revolves around the art of hospitality, community, and the joy of sharing food experiences.\\n\\n**Key Points**\\n\\n1. **Multisensory Dining Experience**: The restaurant aims to create a dining experience that stimulates the senses and nourishes the soul.\\n2. **Passion for Cooking**: Every moment in the kitchen is infused with passion, creativity, and appreciation for the art of cooking.\\n3. **Community Building**: Food has the power to bring people together, forge connections, and create lasting memories.\\n4. **Sharing and Celebration**: The restaurant's dishes are meant to be shared, savored, and celebrated, whether it's a leisurely meal with loved ones or a quiet moment of solitude.\\n\\n**Key Emotions and Values**\\n\\n1. **Passion**: The text conveys the passion and enthusiasm for cooking and sharing food experiences.\\n2. **Community**: The restaurant values building connections and creating memories through shared meals.\\n3. **Joy**: The joy of sharing food is emphasized, whether it's with loved ones or alone.\\n\\n**Key Themes**\\n\\n1. **Hospitality**: The art of hospitality is a central theme, focusing on creating a welcoming and memorable experience for customers.\\n2. **Food Culture**: The text highlights the importance of food in bringing people together and creating lasting memories.\\n3. **Emotional Connection**: The restaurant aims to create an emotional connection with its customers through shared experiences and delicious food.\"]}"
      ]
     },
     "execution_count": 29,
     "metadata": {},
     "output_type": "execute_result"
    }
   ],
   "source": [
    "clustered_summaries"
   ]
  },
  {
   "cell_type": "code",
   "execution_count": 31,
   "metadata": {},
   "outputs": [],
   "source": [
    "final_summaries = {}\n",
    "for cluster, texts in clustered_summaries.items():\n",
    "    combined_text = ' '.join(texts)\n",
    "    summary = chain.invoke({\"text\": combined_text})\n",
    "    final_summaries[cluster] = summary"
   ]
  },
  {
   "cell_type": "code",
   "execution_count": 32,
   "metadata": {},
   "outputs": [
    {
     "data": {
      "text/plain": [
       "{0: \"It seems like there are two separate texts provided, and I'll summarize each one accordingly.\\n\\n**Text 1: Giovanni's Story**\\n\\nThis text describes Giovanni's journey in learning the art of cooking and his passion for sharing food experiences. Here is a detailed summary:\\n\\n* **Early Life**: Giovanni grew up surrounded by Neapolitan culture, where food was a sacred ritual that celebrated life itself.\\n* **Apprenticeship**: At 15, he embarked on a culinary odyssey that took him from Naples to Rome, Florence, and beyond, learning from master chefs and seasoned artisans.\\n* **Philosophy**: For Giovanni, hospitality is not just about serving food; it's about creating an experience that nourishes the body, delights the senses, and touches the soul.\\n* **Passion and Creativity**: He approaches each dish with curiosity, creativity, and reverence for the ingredients that inspire him.\\n* **Community and Legacy**: Food is not just about sustenance; it's about connection, community, and shared experiences. Giovanni believes in building a legacy for his own family, passing down traditions, recipes, and values to future generations.\\n\\n**Text 2: Bella Vista Restaurant Concept**\\n\\nThis text appears to be an introduction to a restaurant concept called Bella Vista. Here is a detailed summary:\\n\\n* **Multisensory Dining Experience**: The restaurant aims to create a dining experience that stimulates the senses and nourishes the soul.\\n* **Passion for Cooking**: Every moment in the kitchen is infused with passion, creativity, and appreciation for the art of cooking.\\n* **Community Building**: Food has the power to bring people together, forge connections, and create lasting memories.\\n* **Sharing and Celebration**: The restaurant's dishes are meant to be shared, savored, and celebrated, whether it's a leisurely meal with loved ones or a quiet moment of solitude.\\n\\n**Key Themes**\\n\\nFor both texts, some common key themes include:\\n\\n* **Passion for Cooking**: Both Giovanni and the Bella Vista restaurant concept emphasize the importance of passion and creativity in cooking.\\n* **Community and Connection**: Food is used as a means to bring people together, create shared experiences, and build connections.\\n* **Hospitality**: The art of hospitality is a central theme in both texts, focusing on creating a welcoming and memorable experience for customers.\"}"
      ]
     },
     "execution_count": 32,
     "metadata": {},
     "output_type": "execute_result"
    }
   ],
   "source": [
    "final_summaries"
   ]
  },
  {
   "cell_type": "code",
   "execution_count": 33,
   "metadata": {},
   "outputs": [],
   "source": [
    "texts_from_df = df['Text'].tolist()\n",
    "texts_from_clustered_texts = list(clustered_texts.values())\n",
    "texts_from_final_summaries = list(final_summaries.values())\n",
    "\n",
    "combined_texts = texts_from_df + texts_from_clustered_texts + texts_from_final_summaries"
   ]
  },
  {
   "cell_type": "code",
   "execution_count": 34,
   "metadata": {},
   "outputs": [
    {
     "data": {
      "text/plain": [
       "['Step into our Tuscan-inspired sanctuary, where the golden hues of sun-kissed landscapes and the earthy aromas of olive groves and vineyards set the stage for a memorable dining experience. Tuscany,',\n",
       " 'Tuscany, renowned for its breathtaking countryside and rich culinary heritage, offers a bounty of flavors and traditions to explore.',\n",
       " 'Begin your journey with an antipasto platter adorned with cured meats, aged cheeses, and marinated vegetables, reminiscent of leisurely gatherings under the Tuscan sun. Each bite tells a story of',\n",
       " 'tells a story of generations past, of farmers and artisans who have perfected their craft over centuries.',\n",
       " 'Indulge in classics like Ribollita, a hearty vegetable soup enriched with cannellini beans and Tuscan kale. This comforting dish, born out of frugality and resourcefulness, warms both body and soul,',\n",
       " 'both body and soul, offering a taste of Tuscan tradition with every spoonful.',\n",
       " 'Alternatively, savor the simplicity of Cacciucco, a rustic seafood stew brimming with the bounty of the Mediterranean. With its roots firmly planted in coastal communities, this dish celebrates the',\n",
       " \"dish celebrates the region's abundant seafood while paying homage to the fishermen who have sustained generations with their daily catch.\",\n",
       " 'As you dine, let the flavors of Tuscany transport you to a simpler time, where meals were savored slowly and each ingredient was cherished for its role in creating culinary magic. From the fields to',\n",
       " 'From the fields to the table, every aspect of Tuscan cuisine speaks to a deep connection to the land and a reverence for the ingredients that define it.',\n",
       " \"Soak in the essence of Tuscany as you sip on a glass of Chianti, the region's iconic red wine, and let the spirit of la dolce vita wash over you. At Bella Vista, our Tuscan-inspired menu invites you\",\n",
       " 'menu invites you to experience the true essence of Italian hospitality, where every dish is a celebration of tradition, flavor, and the timeless beauty of Tuscany.',\n",
       " 'Chapter 2: Flavors of Sicily',\n",
       " 'Transport yourself to the vibrant island of Sicily, where the mingling of diverse cultures has birthed a culinary landscape as bold and colorful as its landscapes. From the bustling markets of',\n",
       " 'bustling markets of Palermo to the sun-drenched shores of Taormina, Sicily offers a feast for the senses unlike any other.',\n",
       " 'Dive into a sea of flavors with Arancini, golden orbs of saffron-infused risotto stuffed with savory ragù and molten cheese. These indulgent delights, often enjoyed as street food or appetizers,',\n",
       " \"food or appetizers, showcase Sicily's love affair with rice and its penchant for bold, robust flavors.\",\n",
       " \"Alternatively, sample the delights of Caponata, a sweet and sour eggplant relish bursting with tomatoes, olives, and capers. This versatile dish, with its roots in Arab cuisine, reflects Sicily's\",\n",
       " \"reflects Sicily's rich history of culinary conquests, where each bite tells a story of cultural exchange and innovation.\",\n",
       " \"For mains, indulge in Pasta alla Norma, a Sicilian classic marrying silky eggplant, rich tomato sauce, and salty ricotta salata. Named after Bellini's famous opera, this dish is a tribute to Sicily's\",\n",
       " \"tribute to Sicily's artistic soul, where food and culture intertwine in a symphony of flavors.\",\n",
       " 'Alternatively, savor the robust flavors of Swordfish Involtini, tender fish rolls filled with breadcrumbs, pine nuts, and raisins, bathed in a fragrant tomato sauce. This dish, with its blend of',\n",
       " \"with its blend of sweet and savory elements, captures the essence of Sicily's coastal cuisine, where seafood reigns supreme.\",\n",
       " 'As you dine, let the flavors of Sicily transport you to a land of ancient ruins and vibrant cities, where the past and present collide in a kaleidoscope of flavor and tradition. At Bella Vista, our',\n",
       " 'At Bella Vista, our Sicilian-inspired menu invites you to experience the bold, colorful cuisine of this enchanting island, where every dish is a celebration of Sicilian spirit and hospitality.',\n",
       " 'Chapter 3: Venetian Elegance',\n",
       " \"Embrace the romance and charm of Venice with our menu inspired by the city's culinary heritage and maritime traditions. From the labyrinthine streets of the historic center to the tranquil waters of\",\n",
       " 'tranquil waters of the Grand Canal, Venice offers a feast for the senses unlike any other.',\n",
       " 'Start your culinary voyage with Cicchetti, bite-sized Venetian snacks bursting with flavor, from creamy bacalà mantecato to delicate baccalà fritters. These small but flavorful bites, often enjoyed',\n",
       " \"often enjoyed with a glass of local wine, showcase Venice's love affair with seafood and its talent for transforming simple ingredients into culinary masterpieces.\",\n",
       " 'For a taste of the sea, delve into Risotto al Nero di Seppia, a luxurious black squid ink risotto crowned with plump shrimp and tender calamari. This iconic Venetian dish, with its dramatic color and',\n",
       " \"dramatic color and rich, briny flavor, captures the essence of the city's maritime heritage, where seafood has always played a central role in the local cuisine.\",\n",
       " 'Alternatively, indulge in Risi e Bisi, a comforting risotto enriched with sweet peas and savory pancetta. This simple yet satisfying dish, often enjoyed during the spring months, celebrates the',\n",
       " \"celebrates the bounty of the Venetian lagoon and the region's rich agricultural heritage.\",\n",
       " 'Complete your Venetian feast with a decadent slice of Tiramisu, the quintessential Italian dessert that translates to \"pick me up.\" This heavenly confection, with its layers of espresso-soaked',\n",
       " 'of espresso-soaked ladyfingers, creamy mascarpone, and dusting of cocoa powder, is a fitting finale to a meal that lifts the spirits and satisfies the soul.',\n",
       " 'As you dine, let the flavors of Venice transport you to a city of timeless beauty and unparalleled elegance, where each dish is a testament to the ingenuity and creativity of Venetian cuisine. At',\n",
       " \"cuisine. At Bella Vista, our Venetian-inspired menu invites you to experience the magic of Venice, where every bite is a journey through the city's rich culinary heritage and maritime traditions.\",\n",
       " 'Chapter 4: Roman Revival',\n",
       " \"In the eternal city of Rome, ancient traditions blend seamlessly with modern flair, resulting in a culinary landscape that's as timeless as it is tantalizing. From the majestic ruins of the Colosseum\",\n",
       " 'of the Colosseum to the bustling streets of Trastevere, Rome offers a feast for the senses unlike any other.',\n",
       " \"Begin your Roman odyssey with Supplì al Telefono, golden rice croquettes oozing with molten mozzarella. These irresistible snacks, often enjoyed as street food or appetizers, showcase Rome's love\",\n",
       " \"Rome's love affair with rice and its talent for transforming humble ingredients into culinary delights.\",\n",
       " 'Alternatively, savor the simplicity of Carciofi alla Romana, tender artichokes simmered in fragrant herbs and olive oil. This classic Roman dish, with its delicate flavors and melt-in-your-mouth',\n",
       " \"melt-in-your-mouth texture, is a testament to the city's rich culinary heritage and its love affair with fresh, seasonal produce.\",\n",
       " 'For a taste of la dolce vita, feast on Cacio e Pepe, a decadent pasta dish featuring al dente spaghetti coated in a velvety sauce of Pecorino Romano and black pepper. This iconic Roman dish, with its',\n",
       " 'dish, with its bold flavors and comforting simplicity, captures the essence of Roman cuisine, where the beauty lies in the purity of the ingredients and the skill of the chef.',\n",
       " 'Alternatively, indulge in Saltimbocca alla Romana, tender veal cutlets wrapped in prosciutto and sage, sautéed to perfection in a white wine sauce. This iconic Roman dish, with its bold flavors and',\n",
       " \"bold flavors and elegant presentation, is a testament to the city's rich culinary heritage and its love affair with the art of cooking.\",\n",
       " 'As you dine, let the flavors of Rome transport you to a city of ancient wonders and modern marvels, where each dish is a celebration of tradition, flavor, and the eternal spirit of la dolce vita. At',\n",
       " \"la dolce vita. At Bella Vista, our Roman-inspired menu invites you to experience the magic of Rome, where every bite is a journey through the city's rich culinary heritage and timeless traditions.\",\n",
       " 'Chapter 5: Neapolitan Soul',\n",
       " 'Journey to the sun-drenched shores of Naples, where the air is filled with the intoxicating scent of wood-fired pizzas and the joyful strains of Neapolitan melodies. From the bustling streets of',\n",
       " 'bustling streets of Spaccanapoli to the tranquil waters of the Bay of Naples, Naples offers a feast for the senses unlike any other.',\n",
       " 'Begin your culinary escapade with a selection of Antipasti Napoletani, featuring delights like fried calamari, stuffed peppers, and marinated anchovies. These vibrant and flavorful starters, often',\n",
       " \"starters, often enjoyed with a glass of local wine, showcase Naples' love affair with seafood and its talent for transforming simple ingredients into culinary masterpieces.\",\n",
       " 'For mains, delight your palate with Pizza Margherita, the iconic Neapolitan pie adorned with vibrant tomatoes, creamy mozzarella, and fragrant basil. This classic Neapolitan dish, with its crispy',\n",
       " \"with its crispy crust and melty cheese, captures the essence of Naples' culinary heritage and its love affair with pizza.\",\n",
       " 'Alternatively, indulge in Spaghetti alla Puttanesca, a fiery pasta dish bursting with the bold flavors of olives, capers, and anchovies. This iconic Neapolitan dish, with its robust flavors and',\n",
       " \"robust flavors and vibrant colors, is a testament to the city's rich culinary heritage and its love affair with bold, Mediterranean flavors.\",\n",
       " 'End your meal on a sweet note with a slice of Pastiera Napoletana, a heavenly ricotta and wheat pie perfumed with orange blossom water and adorned with candied citrus. This iconic Neapolitan dessert,',\n",
       " 'Neapolitan dessert, with its delicate flavors and rich textures, is a fitting finale to a meal that celebrates the soulful flavors of Naples.',\n",
       " 'As you dine, let the flavors of Naples transport you to a city of vibrant colors and rich flavors, where each dish is a celebration of tradition, flavor, and the soulful spirit of Neapolitan cuisine.',\n",
       " \"Neapolitan cuisine. At Bella Vista, our Neapolitan-inspired menu invites you to experience the magic of Naples, where every bite is a journey through the city's rich culinary heritage and joyful\",\n",
       " 'heritage and joyful traditions.',\n",
       " 'In the bustling streets of Naples, where the aroma of freshly baked pizza mingles with the salty breeze of the Mediterranean, Giovanni Di Napoli was born into a world steeped in culinary tradition.',\n",
       " \"culinary tradition. From an early age, Giovanni's passion for food was ignited by his Nonna Rosa, whose rustic kitchen served as the heart of their family gatherings, filled with laughter, love, and\",\n",
       " 'laughter, love, and the irresistible scent of simmering sauces.',\n",
       " \"Giovanni's upbringing was deeply rooted in the rich tapestry of Neapolitan culture, where food wasn't merely sustenance but a sacred ritual—a celebration of life itself. His Nonna's culinary prowess,\",\n",
       " 'culinary prowess, coupled with the vibrant markets of Naples, instilled in him a profound appreciation for fresh, locally sourced ingredients and the time-honored techniques that transformed them',\n",
       " 'transformed them into culinary masterpieces.',\n",
       " 'Chapter 1: Roots of Inspiration',\n",
       " \"Born into a family of artisans and craftsmen, Giovanni's childhood was a symphony of sights, sounds, and flavors—a vibrant mosaic of Neapolitan culture that shaped his culinary journey from the very\",\n",
       " \"from the very beginning. From helping his Nonna knead dough for homemade pasta to accompanying his Nonno to the bustling markets of Naples, Giovanni's early years were steeped in the traditions and\",\n",
       " 'the traditions and rituals that would later define his approach to cooking.',\n",
       " \"Guided by his Nonna's gentle hand and unwavering passion, Giovanni learned the art of cooking not from textbooks or formal training but from the heart—a lesson in flavor, technique, and above all,\",\n",
       " \"and above all, love. In his Nonna's kitchen, he discovered the magic of simple, honest food made with care and attention to detail—a philosophy that would become the cornerstone of his culinary\",\n",
       " 'of his culinary identity.',\n",
       " 'Chapter 2: A Journey Begins',\n",
       " 'At the tender age of fifteen, Giovanni embarked on a culinary odyssey that would take him from the cobblestone streets of Naples to the bustling kitchens of Rome, Florence, and beyond. Driven by a',\n",
       " 'beyond. Driven by a relentless thirst for knowledge and a burning passion for his craft, Giovanni immersed himself in the rich tapestry of Italian cuisine, absorbing the secrets of pasta-making,',\n",
       " 'of pasta-making, sauce-simmering, and dough-kneading with unwavering dedication.',\n",
       " 'Under the tutelage of master chefs and seasoned artisans, Giovanni honed his skills, refining his palate and expanding his culinary repertoire with each new experience. From the art of crafting',\n",
       " 'the art of crafting perfect risotto to the delicate balance of flavors in a traditional ragù, Giovanni embraced the diversity and complexity of Italian cuisine, weaving together a tapestry of flavors',\n",
       " 'tapestry of flavors and techniques that would later define his signature style.',\n",
       " 'Chapter 3: The Birth of Bella Vista',\n",
       " 'Armed with a vision and a burning passion to share the flavors of his homeland with the world, Giovanni set out to create Bella Vista—a culinary sanctuary where the soulful flavors of Italy could be',\n",
       " 'of Italy could be experienced in all their glory. Nestled in the heart of a bustling city, Bella Vista quickly became a beacon of authenticity, drawing food lovers from far and wide with its',\n",
       " 'and wide with its tantalizing aromas, warm hospitality, and unapologetically Italian ambiance.',\n",
       " \"For Giovanni, Bella Vista wasn't just a restaurant—it was a labor of love, a tribute to his roots, and a testament to the power of food to bring people together. From the carefully curated menu to\",\n",
       " \"curated menu to the warm, inviting atmosphere, every aspect of Bella Vista reflected Giovanni's unwavering commitment to excellence and his deep reverence for the culinary traditions that had shaped\",\n",
       " 'that had shaped him.',\n",
       " 'Chapter 4: The Art of Hospitality',\n",
       " \"For Giovanni, hospitality isn't just about serving food; it's about creating an experience that nourishes the body, delights the senses, and touches the soul. From the moment guests step through the\",\n",
       " 'step through the doors of Bella Vista, they are enveloped in a warm embrace of Italian hospitality, welcomed as family and invited to savor the simple pleasures of good food, great wine, and lively',\n",
       " 'wine, and lively conversation.',\n",
       " \"At Bella Vista, hospitality is more than just a job—it's a way of life, a philosophy that permeates every aspect of the dining experience. From the friendly smiles of the staff to the meticulous\",\n",
       " 'to the meticulous attention to detail in every dish, Giovanni and his team strive to create an atmosphere of warmth, comfort, and joy, where guests can relax, unwind, and savor the moment.',\n",
       " 'Chapter 5: The Culinary Visionary',\n",
       " 'As the driving force behind Bella Vista, Giovanni is not content to simply rest on his laurels; he is constantly pushing the boundaries of Italian cuisine, exploring new flavors, techniques, and',\n",
       " \"techniques, and ingredients to keep his menu fresh, exciting, and relevant. From seasonal specials inspired by the bounty of the earth to innovative reinterpretations of classic dishes, Giovanni's\",\n",
       " \"dishes, Giovanni's culinary creations are a testament to his creativity, passion, and unwavering commitment to excellence.\",\n",
       " \"For Giovanni, cooking is more than just a job—it's an art form, a creative expression of his love for food and his deep connection to his heritage. Whether he's experimenting with new flavor\",\n",
       " 'with new flavor combinations or putting his own spin on traditional recipes, Giovanni approaches each dish with a sense of curiosity, creativity, and reverence for the ingredients that inspire him.',\n",
       " 'Chapter 6: A Community of Food Lovers',\n",
       " 'Beyond the walls of Bella Vista, Giovanni is deeply committed to giving back to the community that has embraced him with open arms. Whether through charitable events, culinary workshops, or',\n",
       " 'workshops, or partnerships with local farmers and artisans, Giovanni is dedicated to supporting and nurturing the vibrant tapestry of food culture that thrives in his city, ensuring that future',\n",
       " 'that future generations will continue to be inspired by the flavors, traditions, and spirit of Italy.',\n",
       " \"For Giovanni, food isn't just about sustenance—it's about connection, community, and shared experiences. Whether he's hosting a cooking class for aspiring chefs or organizing a fundraiser for a local\",\n",
       " 'for a local charity, Giovanni believes in the power of food to bring people together, bridge divides, and create lasting memories that transcend language, culture, and background.',\n",
       " 'Chapter 7: Legacy of Love',\n",
       " 'As Giovanni looks back on his journey from the streets of Naples to the helm of Bella Vista, he is filled with gratitude for the experiences, the mentors, and the moments that have shaped him into',\n",
       " \"shaped him into the chef and the man he is today. But above all, Giovanni's greatest source of pride is the legacy he is building for his own family, passing down the traditions, the recipes, and the\",\n",
       " 'recipes, and the values that have been cherished for generations, ensuring that the flame of Italian cuisine will continue to burn bright for years to come.',\n",
       " \"For Giovanni, Bella Vista isn't just a restaurant—it's a legacy, a testament to his love for food, family, and the rich tapestry of Italian culture. Whether he's sharing a meal with loved ones or\",\n",
       " \"with loved ones or serving guests at his restaurant, Giovanni's passion for cooking is a reflection of his deep-seated belief in the power of food to nourish the body, uplift the spirit, and bring\",\n",
       " \"spirit, and bring people together in celebration of life's simple pleasures.\",\n",
       " 'Introduction: Welcome to Bella Vista, where every dish is a love letter to the vibrant flavors, fresh ingredients, and time-honored traditions of Italian cuisine. At the heart of our culinary',\n",
       " 'of our culinary philosophy lies a deep reverence for the simple yet sublime beauty of the Mediterranean diet, which celebrates the natural bounty of the land and sea, and the art of transforming',\n",
       " 'art of transforming humble ingredients into extraordinary culinary creations. Join us as we embark on a gastronomic journey through the diverse regions of Italy, from the sun-drenched shores of',\n",
       " 'shores of Sicily to the verdant hills of Tuscany, to discover the soul-stirring flavors that have captivated palates for centuries.',\n",
       " 'Chapter 1: The Essence of Italian Cuisine Italian cuisine is a celebration of simplicity, freshness, and flavor, where every dish is a reflection of the land, the culture, and the people who create',\n",
       " 'people who create it. At Bella Vista, we embrace this philosophy wholeheartedly, sourcing the finest seasonal ingredients from local farmers, fishermen, and artisans, and allowing their natural',\n",
       " 'their natural flavors to shine through in every bite. From ripe tomatoes bursting with sun-ripened sweetness to fragrant basil leaves picked at the peak of freshness, our kitchen is a symphony of',\n",
       " 'is a symphony of colors, aromas, and textures that pays homage to the rich culinary heritage of Italy.',\n",
       " 'Chapter 2: The Heart of the Mediterranean At the heart of Italian cuisine lies the Mediterranean diet, a way of eating that emphasizes whole grains, fresh fruits and vegetables, lean proteins, and',\n",
       " 'lean proteins, and healthy fats, all of which are abundant in the sun-drenched regions of southern Europe. Olive oil, the cornerstone of Mediterranean cooking, infuses our dishes with its golden hue',\n",
       " 'with its golden hue and fruity flavor, while herbs like oregano, rosemary, and thyme add depth and complexity to our sauces and marinades. Seafood, another staple of the Mediterranean diet, features',\n",
       " 'diet, features prominently on our menu, from delicate crudo plates adorned with citrus and herbs to hearty seafood stews simmered in rich tomato broth.',\n",
       " 'Chapter 3: The Art of Pasta Making No discussion of Italian cuisine would be complete without paying homage to pasta, the beloved staple that has been nourishing Italians for centuries. At Bella',\n",
       " 'centuries. At Bella Vista, we take pride in our pasta-making traditions, crafting each batch of dough with care and precision to achieve the perfect texture and flavor. From silky strands of',\n",
       " 'silky strands of spaghetti to delicate ravioli parcels, our pasta dishes are a testament to the artistry and craftsmanship of our chefs, who draw inspiration from the diverse regions of Italy to',\n",
       " 'regions of Italy to create dishes that are both timeless and innovative.',\n",
       " 'Chapter 4: From Field to Fork At Bella Vista, we believe that the quality of our ingredients is paramount to the success of our dishes, which is why we go to great lengths to source the freshest,',\n",
       " 'the freshest, most flavorful produce available. Our tomatoes are handpicked at the peak of ripeness from local farms, our cheeses are crafted with care by artisanal cheesemakers, and our meats are',\n",
       " 'and our meats are sourced from trusted suppliers who share our commitment to quality and sustainability. By supporting local farmers and producers, we not only ensure the integrity of our ingredients',\n",
       " 'of our ingredients but also contribute to the vibrant food culture that thrives in our community.',\n",
       " 'Chapter 5: A Symphony of Flavors Italian cuisine is renowned for its bold and vibrant flavors, which are achieved through the careful balance of sweet, sour, salty, and savory elements. At Bella',\n",
       " 'elements. At Bella Vista, our chefs draw on a rich palette of ingredients and seasonings to create dishes that are as satisfying as they are memorable. From the zesty tang of citrus and the peppery',\n",
       " 'and the peppery bite of arugula to the umami richness of aged Parmesan and the subtle sweetness of roasted garlic, each component plays a vital role in creating dishes that are layered, complex, and',\n",
       " 'complex, and utterly irresistible.',\n",
       " 'Chapter 6: The Power of Tradition While we take pride in our culinary creativity and innovation, we also recognize the importance of honoring the time-honored traditions that have been passed down',\n",
       " 'been passed down through generations of Italian cooks. At Bella Vista, we pay homage to these traditions by preserving classic recipes and techniques, from slow-simmered ragùs and hand-rolled gnocchi',\n",
       " 'hand-rolled gnocchi to wood-fired pizzas and artisanal gelato. By staying true to our roots and embracing the wisdom of the past, we ensure that every dish we serve is a tribute to the rich culinary',\n",
       " 'the rich culinary heritage of Italy.',\n",
       " \"Chapter 7: A Feast for the Senses Italian cuisine is more than just food; it's a feast for the senses that engages sight, smell, taste, and touch in equal measure. At Bella Vista, we believe that\",\n",
       " 'we believe that dining should be a multisensory experience that stimulates the senses and nourishes the soul. From the sizzle of garlic hitting hot olive oil to the aroma of freshly baked bread',\n",
       " 'freshly baked bread wafting from the oven, every moment in our kitchen is infused with passion, creativity, and a deep appreciation for the art of cooking. Join us as we embark on a culinary journey',\n",
       " 'a culinary journey that delights the senses and transports you to the sun-drenched shores of Italy.',\n",
       " \"Chapter 8: The Joy of Sharing At Bella Vista, we believe that food has the power to bring people together, to forge connections, and to create lasting memories. Whether you're sharing a leisurely\",\n",
       " 'sharing a leisurely meal with loved ones, savoring a romantic dinner for two, or simply enjoying a quiet moment of solitude, our dishes are meant to be shared, savored, and celebrated. Join us at',\n",
       " 'Join us at Bella Vista, where every meal is an opportunity to come together, to break bread, and to revel in the simple pleasures of good food, good company, and the joy of shared experiences.',\n",
       " \"Step into our Tuscan-inspired sanctuary, where the golden hues of sun-kissed landscapes and the earthy aromas of olive groves and vineyards set the stage for a memorable dining experience. Tuscany, --- Begin your journey with an antipasto platter adorned with cured meats, aged cheeses, and marinated vegetables, reminiscent of leisurely gatherings under the Tuscan sun. Each bite tells a story of --- Indulge in classics like Ribollita, a hearty vegetable soup enriched with cannellini beans and Tuscan kale. This comforting dish, born out of frugality and resourcefulness, warms both body and soul, --- both body and soul, offering a taste of Tuscan tradition with every spoonful. --- As you dine, let the flavors of Tuscany transport you to a simpler time, where meals were savored slowly and each ingredient was cherished for its role in creating culinary magic. From the fields to --- From the fields to the table, every aspect of Tuscan cuisine speaks to a deep connection to the land and a reverence for the ingredients that define it. --- robust flavors and vibrant colors, is a testament to the city's rich culinary heritage and its love affair with bold, Mediterranean flavors. --- of our culinary philosophy lies a deep reverence for the simple yet sublime beauty of the Mediterranean diet, which celebrates the natural bounty of the land and sea, and the art of transforming --- their natural flavors to shine through in every bite. From ripe tomatoes bursting with sun-ripened sweetness to fragrant basil leaves picked at the peak of freshness, our kitchen is a symphony of --- Chapter 2: The Heart of the Mediterranean At the heart of Italian cuisine lies the Mediterranean diet, a way of eating that emphasizes whole grains, fresh fruits and vegetables, lean proteins, and --- lean proteins, and healthy fats, all of which are abundant in the sun-drenched regions of southern Europe. Olive oil, the cornerstone of Mediterranean cooking, infuses our dishes with its golden hue --- with its golden hue and fruity flavor, while herbs like oregano, rosemary, and thyme add depth and complexity to our sauces and marinades. Seafood, another staple of the Mediterranean diet, features --- diet, features prominently on our menu, from delicate crudo plates adorned with citrus and herbs to hearty seafood stews simmered in rich tomato broth. --- the freshest, most flavorful produce available. Our tomatoes are handpicked at the peak of ripeness from local farms, our cheeses are crafted with care by artisanal cheesemakers, and our meats are --- and our meats are sourced from trusted suppliers who share our commitment to quality and sustainability. By supporting local farmers and producers, we not only ensure the integrity of our ingredients --- of our ingredients but also contribute to the vibrant food culture that thrives in our community.\",\n",
       " 'Tuscany, renowned for its breathtaking countryside and rich culinary heritage, offers a bounty of flavors and traditions to explore. --- and wide with its tantalizing aromas, warm hospitality, and unapologetically Italian ambiance. --- that future generations will continue to be inspired by the flavors, traditions, and spirit of Italy. --- recipes, and the values that have been cherished for generations, ensuring that the flame of Italian cuisine will continue to burn bright for years to come. --- art of transforming humble ingredients into extraordinary culinary creations. Join us as we embark on a gastronomic journey through the diverse regions of Italy, from the sun-drenched shores of --- Chapter 1: The Essence of Italian Cuisine Italian cuisine is a celebration of simplicity, freshness, and flavor, where every dish is a reflection of the land, the culture, and the people who create --- is a symphony of colors, aromas, and textures that pays homage to the rich culinary heritage of Italy. --- silky strands of spaghetti to delicate ravioli parcels, our pasta dishes are a testament to the artistry and craftsmanship of our chefs, who draw inspiration from the diverse regions of Italy to --- regions of Italy to create dishes that are both timeless and innovative. --- complex, and utterly irresistible. --- the rich culinary heritage of Italy. --- a culinary journey that delights the senses and transports you to the sun-drenched shores of Italy.',\n",
       " \"tells a story of generations past, of farmers and artisans who have perfected their craft over centuries. --- Chapter 4: Roman Revival --- heritage and joyful traditions. --- Chapter 1: Roots of Inspiration --- Chapter 2: A Journey Begins --- Chapter 5: The Culinary Visionary --- Chapter 7: Legacy of Love --- spirit, and bring people together in celebration of life's simple pleasures. --- Chapter 6: The Power of Tradition While we take pride in our culinary creativity and innovation, we also recognize the importance of honoring the time-honored traditions that have been passed down\",\n",
       " \"Alternatively, savor the simplicity of Cacciucco, a rustic seafood stew brimming with the bounty of the Mediterranean. With its roots firmly planted in coastal communities, this dish celebrates the --- dish celebrates the region's abundant seafood while paying homage to the fishermen who have sustained generations with their daily catch. --- Chapter 2: Flavors of Sicily --- Transport yourself to the vibrant island of Sicily, where the mingling of diverse cultures has birthed a culinary landscape as bold and colorful as its landscapes. From the bustling markets of --- food or appetizers, showcase Sicily's love affair with rice and its penchant for bold, robust flavors. --- Alternatively, sample the delights of Caponata, a sweet and sour eggplant relish bursting with tomatoes, olives, and capers. This versatile dish, with its roots in Arab cuisine, reflects Sicily's --- reflects Sicily's rich history of culinary conquests, where each bite tells a story of cultural exchange and innovation. --- For mains, indulge in Pasta alla Norma, a Sicilian classic marrying silky eggplant, rich tomato sauce, and salty ricotta salata. Named after Bellini's famous opera, this dish is a tribute to Sicily's --- tribute to Sicily's artistic soul, where food and culture intertwine in a symphony of flavors. --- Alternatively, savor the robust flavors of Swordfish Involtini, tender fish rolls filled with breadcrumbs, pine nuts, and raisins, bathed in a fragrant tomato sauce. This dish, with its blend of --- with its blend of sweet and savory elements, captures the essence of Sicily's coastal cuisine, where seafood reigns supreme. --- As you dine, let the flavors of Sicily transport you to a land of ancient ruins and vibrant cities, where the past and present collide in a kaleidoscope of flavor and tradition. At Bella Vista, our --- often enjoyed with a glass of local wine, showcase Venice's love affair with seafood and its talent for transforming simple ingredients into culinary masterpieces. --- dramatic color and rich, briny flavor, captures the essence of the city's maritime heritage, where seafood has always played a central role in the local cuisine. --- shores of Sicily to the verdant hills of Tuscany, to discover the soul-stirring flavors that have captivated palates for centuries.\",\n",
       " 'Soak in the essence of Tuscany as you sip on a glass of Chianti, the region\\'s iconic red wine, and let the spirit of la dolce vita wash over you. At Bella Vista, our Tuscan-inspired menu invites you --- menu invites you to experience the true essence of Italian hospitality, where every dish is a celebration of tradition, flavor, and the timeless beauty of Tuscany. --- bustling markets of Palermo to the sun-drenched shores of Taormina, Sicily offers a feast for the senses unlike any other. --- Chapter 3: Venetian Elegance --- Embrace the romance and charm of Venice with our menu inspired by the city\\'s culinary heritage and maritime traditions. From the labyrinthine streets of the historic center to the tranquil waters of --- tranquil waters of the Grand Canal, Venice offers a feast for the senses unlike any other. --- Start your culinary voyage with Cicchetti, bite-sized Venetian snacks bursting with flavor, from creamy bacalà mantecato to delicate baccalà fritters. These small but flavorful bites, often enjoyed --- celebrates the bounty of the Venetian lagoon and the region\\'s rich agricultural heritage. --- Complete your Venetian feast with a decadent slice of Tiramisu, the quintessential Italian dessert that translates to \"pick me up.\" This heavenly confection, with its layers of espresso-soaked --- of espresso-soaked ladyfingers, creamy mascarpone, and dusting of cocoa powder, is a fitting finale to a meal that lifts the spirits and satisfies the soul. --- As you dine, let the flavors of Venice transport you to a city of timeless beauty and unparalleled elegance, where each dish is a testament to the ingenuity and creativity of Venetian cuisine. At --- cuisine. At Bella Vista, our Venetian-inspired menu invites you to experience the magic of Venice, where every bite is a journey through the city\\'s rich culinary heritage and maritime traditions. --- la dolce vita. At Bella Vista, our Roman-inspired menu invites you to experience the magic of Rome, where every bite is a journey through the city\\'s rich culinary heritage and timeless traditions. --- Chapter 5: A Symphony of Flavors Italian cuisine is renowned for its bold and vibrant flavors, which are achieved through the careful balance of sweet, sour, salty, and savory elements. At Bella --- hand-rolled gnocchi to wood-fired pizzas and artisanal gelato. By staying true to our roots and embracing the wisdom of the past, we ensure that every dish we serve is a tribute to the rich culinary --- Chapter 7: A Feast for the Senses Italian cuisine is more than just food; it\\'s a feast for the senses that engages sight, smell, taste, and touch in equal measure. At Bella Vista, we believe that',\n",
       " 'Dive into a sea of flavors with Arancini, golden orbs of saffron-infused risotto stuffed with savory ragù and molten cheese. These indulgent delights, often enjoyed as street food or appetizers, --- For a taste of the sea, delve into Risotto al Nero di Seppia, a luxurious black squid ink risotto crowned with plump shrimp and tender calamari. This iconic Venetian dish, with its dramatic color and --- Alternatively, indulge in Risi e Bisi, a comforting risotto enriched with sweet peas and savory pancetta. This simple yet satisfying dish, often enjoyed during the spring months, celebrates the --- the art of crafting perfect risotto to the delicate balance of flavors in a traditional ragù, Giovanni embraced the diversity and complexity of Italian cuisine, weaving together a tapestry of flavors',\n",
       " \"At Bella Vista, our Sicilian-inspired menu invites you to experience the bold, colorful cuisine of this enchanting island, where every dish is a celebration of Sicilian spirit and hospitality. --- Chapter 3: The Birth of Bella Vista --- Armed with a vision and a burning passion to share the flavors of his homeland with the world, Giovanni set out to create Bella Vista—a culinary sanctuary where the soulful flavors of Italy could be --- of Italy could be experienced in all their glory. Nestled in the heart of a bustling city, Bella Vista quickly became a beacon of authenticity, drawing food lovers from far and wide with its --- For Giovanni, Bella Vista wasn't just a restaurant—it was a labor of love, a tribute to his roots, and a testament to the power of food to bring people together. From the carefully curated menu to --- curated menu to the warm, inviting atmosphere, every aspect of Bella Vista reflected Giovanni's unwavering commitment to excellence and his deep reverence for the culinary traditions that had shaped --- step through the doors of Bella Vista, they are enveloped in a warm embrace of Italian hospitality, welcomed as family and invited to savor the simple pleasures of good food, great wine, and lively --- At Bella Vista, hospitality is more than just a job—it's a way of life, a philosophy that permeates every aspect of the dining experience. From the friendly smiles of the staff to the meticulous --- As the driving force behind Bella Vista, Giovanni is not content to simply rest on his laurels; he is constantly pushing the boundaries of Italian cuisine, exploring new flavors, techniques, and --- Beyond the walls of Bella Vista, Giovanni is deeply committed to giving back to the community that has embraced him with open arms. Whether through charitable events, culinary workshops, or --- As Giovanni looks back on his journey from the streets of Naples to the helm of Bella Vista, he is filled with gratitude for the experiences, the mentors, and the moments that have shaped him into --- For Giovanni, Bella Vista isn't just a restaurant—it's a legacy, a testament to his love for food, family, and the rich tapestry of Italian culture. Whether he's sharing a meal with loved ones or --- Introduction: Welcome to Bella Vista, where every dish is a love letter to the vibrant flavors, fresh ingredients, and time-honored traditions of Italian cuisine. At the heart of our culinary --- people who create it. At Bella Vista, we embrace this philosophy wholeheartedly, sourcing the finest seasonal ingredients from local farmers, fishermen, and artisans, and allowing their natural --- Chapter 3: The Art of Pasta Making No discussion of Italian cuisine would be complete without paying homage to pasta, the beloved staple that has been nourishing Italians for centuries. At Bella --- centuries. At Bella Vista, we take pride in our pasta-making traditions, crafting each batch of dough with care and precision to achieve the perfect texture and flavor. From silky strands of --- Chapter 4: From Field to Fork At Bella Vista, we believe that the quality of our ingredients is paramount to the success of our dishes, which is why we go to great lengths to source the freshest, --- elements. At Bella Vista, our chefs draw on a rich palette of ingredients and seasonings to create dishes that are as satisfying as they are memorable. From the zesty tang of citrus and the peppery --- been passed down through generations of Italian cooks. At Bella Vista, we pay homage to these traditions by preserving classic recipes and techniques, from slow-simmered ragùs and hand-rolled gnocchi --- Join us at Bella Vista, where every meal is an opportunity to come together, to break bread, and to revel in the simple pleasures of good food, good company, and the joy of shared experiences.\",\n",
       " \"In the eternal city of Rome, ancient traditions blend seamlessly with modern flair, resulting in a culinary landscape that's as timeless as it is tantalizing. From the majestic ruins of the Colosseum --- of the Colosseum to the bustling streets of Trastevere, Rome offers a feast for the senses unlike any other. --- Begin your Roman odyssey with Supplì al Telefono, golden rice croquettes oozing with molten mozzarella. These irresistible snacks, often enjoyed as street food or appetizers, showcase Rome's love --- Rome's love affair with rice and its talent for transforming humble ingredients into culinary delights. --- Alternatively, savor the simplicity of Carciofi alla Romana, tender artichokes simmered in fragrant herbs and olive oil. This classic Roman dish, with its delicate flavors and melt-in-your-mouth --- melt-in-your-mouth texture, is a testament to the city's rich culinary heritage and its love affair with fresh, seasonal produce. --- For a taste of la dolce vita, feast on Cacio e Pepe, a decadent pasta dish featuring al dente spaghetti coated in a velvety sauce of Pecorino Romano and black pepper. This iconic Roman dish, with its --- dish, with its bold flavors and comforting simplicity, captures the essence of Roman cuisine, where the beauty lies in the purity of the ingredients and the skill of the chef. --- Alternatively, indulge in Saltimbocca alla Romana, tender veal cutlets wrapped in prosciutto and sage, sautéed to perfection in a white wine sauce. This iconic Roman dish, with its bold flavors and --- bold flavors and elegant presentation, is a testament to the city's rich culinary heritage and its love affair with the art of cooking. --- As you dine, let the flavors of Rome transport you to a city of ancient wonders and modern marvels, where each dish is a celebration of tradition, flavor, and the eternal spirit of la dolce vita. At --- laughter, love, and the irresistible scent of simmering sauces. --- wine, and lively conversation. --- and the peppery bite of arugula to the umami richness of aged Parmesan and the subtle sweetness of roasted garlic, each component plays a vital role in creating dishes that are layered, complex, and\",\n",
       " \"Chapter 5: Neapolitan Soul --- Journey to the sun-drenched shores of Naples, where the air is filled with the intoxicating scent of wood-fired pizzas and the joyful strains of Neapolitan melodies. From the bustling streets of --- bustling streets of Spaccanapoli to the tranquil waters of the Bay of Naples, Naples offers a feast for the senses unlike any other. --- Begin your culinary escapade with a selection of Antipasti Napoletani, featuring delights like fried calamari, stuffed peppers, and marinated anchovies. These vibrant and flavorful starters, often --- starters, often enjoyed with a glass of local wine, showcase Naples' love affair with seafood and its talent for transforming simple ingredients into culinary masterpieces. --- For mains, delight your palate with Pizza Margherita, the iconic Neapolitan pie adorned with vibrant tomatoes, creamy mozzarella, and fragrant basil. This classic Neapolitan dish, with its crispy --- with its crispy crust and melty cheese, captures the essence of Naples' culinary heritage and its love affair with pizza. --- Alternatively, indulge in Spaghetti alla Puttanesca, a fiery pasta dish bursting with the bold flavors of olives, capers, and anchovies. This iconic Neapolitan dish, with its robust flavors and --- End your meal on a sweet note with a slice of Pastiera Napoletana, a heavenly ricotta and wheat pie perfumed with orange blossom water and adorned with candied citrus. This iconic Neapolitan dessert, --- Neapolitan dessert, with its delicate flavors and rich textures, is a fitting finale to a meal that celebrates the soulful flavors of Naples. --- As you dine, let the flavors of Naples transport you to a city of vibrant colors and rich flavors, where each dish is a celebration of tradition, flavor, and the soulful spirit of Neapolitan cuisine. --- Neapolitan cuisine. At Bella Vista, our Neapolitan-inspired menu invites you to experience the magic of Naples, where every bite is a journey through the city's rich culinary heritage and joyful --- In the bustling streets of Naples, where the aroma of freshly baked pizza mingles with the salty breeze of the Mediterranean, Giovanni Di Napoli was born into a world steeped in culinary tradition.\",\n",
       " \"culinary tradition. From an early age, Giovanni's passion for food was ignited by his Nonna Rosa, whose rustic kitchen served as the heart of their family gatherings, filled with laughter, love, and --- Giovanni's upbringing was deeply rooted in the rich tapestry of Neapolitan culture, where food wasn't merely sustenance but a sacred ritual—a celebration of life itself. His Nonna's culinary prowess, --- Born into a family of artisans and craftsmen, Giovanni's childhood was a symphony of sights, sounds, and flavors—a vibrant mosaic of Neapolitan culture that shaped his culinary journey from the very --- from the very beginning. From helping his Nonna knead dough for homemade pasta to accompanying his Nonno to the bustling markets of Naples, Giovanni's early years were steeped in the traditions and --- Guided by his Nonna's gentle hand and unwavering passion, Giovanni learned the art of cooking not from textbooks or formal training but from the heart—a lesson in flavor, technique, and above all, --- and above all, love. In his Nonna's kitchen, he discovered the magic of simple, honest food made with care and attention to detail—a philosophy that would become the cornerstone of his culinary --- At the tender age of fifteen, Giovanni embarked on a culinary odyssey that would take him from the cobblestone streets of Naples to the bustling kitchens of Rome, Florence, and beyond. Driven by a --- beyond. Driven by a relentless thirst for knowledge and a burning passion for his craft, Giovanni immersed himself in the rich tapestry of Italian cuisine, absorbing the secrets of pasta-making, --- of pasta-making, sauce-simmering, and dough-kneading with unwavering dedication. --- Under the tutelage of master chefs and seasoned artisans, Giovanni honed his skills, refining his palate and expanding his culinary repertoire with each new experience. From the art of crafting --- For Giovanni, hospitality isn't just about serving food; it's about creating an experience that nourishes the body, delights the senses, and touches the soul. From the moment guests step through the --- to the meticulous attention to detail in every dish, Giovanni and his team strive to create an atmosphere of warmth, comfort, and joy, where guests can relax, unwind, and savor the moment. --- techniques, and ingredients to keep his menu fresh, exciting, and relevant. From seasonal specials inspired by the bounty of the earth to innovative reinterpretations of classic dishes, Giovanni's --- dishes, Giovanni's culinary creations are a testament to his creativity, passion, and unwavering commitment to excellence. --- For Giovanni, cooking is more than just a job—it's an art form, a creative expression of his love for food and his deep connection to his heritage. Whether he's experimenting with new flavor --- with new flavor combinations or putting his own spin on traditional recipes, Giovanni approaches each dish with a sense of curiosity, creativity, and reverence for the ingredients that inspire him. --- workshops, or partnerships with local farmers and artisans, Giovanni is dedicated to supporting and nurturing the vibrant tapestry of food culture that thrives in his city, ensuring that future --- For Giovanni, food isn't just about sustenance—it's about connection, community, and shared experiences. Whether he's hosting a cooking class for aspiring chefs or organizing a fundraiser for a local --- for a local charity, Giovanni believes in the power of food to bring people together, bridge divides, and create lasting memories that transcend language, culture, and background. --- shaped him into the chef and the man he is today. But above all, Giovanni's greatest source of pride is the legacy he is building for his own family, passing down the traditions, the recipes, and the --- with loved ones or serving guests at his restaurant, Giovanni's passion for cooking is a reflection of his deep-seated belief in the power of food to nourish the body, uplift the spirit, and bring\",\n",
       " 'culinary prowess, coupled with the vibrant markets of Naples, instilled in him a profound appreciation for fresh, locally sourced ingredients and the time-honored techniques that transformed them --- transformed them into culinary masterpieces. --- the traditions and rituals that would later define his approach to cooking. --- of his culinary identity. --- tapestry of flavors and techniques that would later define his signature style. --- that had shaped him.',\n",
       " \"Chapter 4: The Art of Hospitality --- Chapter 6: A Community of Food Lovers --- we believe that dining should be a multisensory experience that stimulates the senses and nourishes the soul. From the sizzle of garlic hitting hot olive oil to the aroma of freshly baked bread --- freshly baked bread wafting from the oven, every moment in our kitchen is infused with passion, creativity, and a deep appreciation for the art of cooking. Join us as we embark on a culinary journey --- Chapter 8: The Joy of Sharing At Bella Vista, we believe that food has the power to bring people together, to forge connections, and to create lasting memories. Whether you're sharing a leisurely --- sharing a leisurely meal with loved ones, savoring a romantic dinner for two, or simply enjoying a quiet moment of solitude, our dishes are meant to be shared, savored, and celebrated. Join us at\",\n",
       " \"It seems like there are two separate texts provided, and I'll summarize each one accordingly.\\n\\n**Text 1: Giovanni's Story**\\n\\nThis text describes Giovanni's journey in learning the art of cooking and his passion for sharing food experiences. Here is a detailed summary:\\n\\n* **Early Life**: Giovanni grew up surrounded by Neapolitan culture, where food was a sacred ritual that celebrated life itself.\\n* **Apprenticeship**: At 15, he embarked on a culinary odyssey that took him from Naples to Rome, Florence, and beyond, learning from master chefs and seasoned artisans.\\n* **Philosophy**: For Giovanni, hospitality is not just about serving food; it's about creating an experience that nourishes the body, delights the senses, and touches the soul.\\n* **Passion and Creativity**: He approaches each dish with curiosity, creativity, and reverence for the ingredients that inspire him.\\n* **Community and Legacy**: Food is not just about sustenance; it's about connection, community, and shared experiences. Giovanni believes in building a legacy for his own family, passing down traditions, recipes, and values to future generations.\\n\\n**Text 2: Bella Vista Restaurant Concept**\\n\\nThis text appears to be an introduction to a restaurant concept called Bella Vista. Here is a detailed summary:\\n\\n* **Multisensory Dining Experience**: The restaurant aims to create a dining experience that stimulates the senses and nourishes the soul.\\n* **Passion for Cooking**: Every moment in the kitchen is infused with passion, creativity, and appreciation for the art of cooking.\\n* **Community Building**: Food has the power to bring people together, forge connections, and create lasting memories.\\n* **Sharing and Celebration**: The restaurant's dishes are meant to be shared, savored, and celebrated, whether it's a leisurely meal with loved ones or a quiet moment of solitude.\\n\\n**Key Themes**\\n\\nFor both texts, some common key themes include:\\n\\n* **Passion for Cooking**: Both Giovanni and the Bella Vista restaurant concept emphasize the importance of passion and creativity in cooking.\\n* **Community and Connection**: Food is used as a means to bring people together, create shared experiences, and build connections.\\n* **Hospitality**: The art of hospitality is a central theme in both texts, focusing on creating a welcoming and memorable experience for customers.\"]"
      ]
     },
     "execution_count": 34,
     "metadata": {},
     "output_type": "execute_result"
    }
   ],
   "source": [
    "combined_texts"
   ]
  },
  {
   "cell_type": "code",
   "execution_count": 35,
   "metadata": {},
   "outputs": [],
   "source": [
    "from pinecone import Pinecone, ServerlessSpec\n",
    "from langchain_community.retrievers import PineconeHybridSearchRetriever"
   ]
  },
  {
   "cell_type": "code",
   "execution_count": 36,
   "metadata": {},
   "outputs": [],
   "source": [
    "pc = Pinecone(api_key='d7204d21-cb62-4544-b49c-9169b420c0e1')"
   ]
  },
  {
   "cell_type": "code",
   "execution_count": 40,
   "metadata": {},
   "outputs": [],
   "source": [
    "index_name = 'sbert-50dim'"
   ]
  },
  {
   "cell_type": "code",
   "execution_count": 41,
   "metadata": {},
   "outputs": [],
   "source": [
    "pc.create_index(name=index_name,dimension=4096,metric=\"dotproduct\",spec=ServerlessSpec(\n",
    "        cloud=\"aws\",\n",
    "        region=\"us-east-1\"))"
   ]
  },
  {
   "cell_type": "code",
   "execution_count": 42,
   "metadata": {},
   "outputs": [],
   "source": [
    "from pinecone_text.sparse import BM25Encoder"
   ]
  },
  {
   "cell_type": "code",
   "execution_count": 43,
   "metadata": {},
   "outputs": [],
   "source": [
    "bm25encoder = BM25Encoder()"
   ]
  },
  {
   "cell_type": "code",
   "execution_count": 44,
   "metadata": {},
   "outputs": [
    {
     "data": {
      "application/vnd.jupyter.widget-view+json": {
       "model_id": "bff8361fb06141f883f8ed7f763a30df",
       "version_major": 2,
       "version_minor": 0
      },
      "text/plain": [
       "  0%|          | 0/165 [00:00<?, ?it/s]"
      ]
     },
     "metadata": {},
     "output_type": "display_data"
    },
    {
     "data": {
      "text/plain": [
       "<pinecone_text.sparse.bm25_encoder.BM25Encoder at 0x1f489c08be0>"
      ]
     },
     "execution_count": 44,
     "metadata": {},
     "output_type": "execute_result"
    }
   ],
   "source": [
    "bm25encoder.fit(combined_texts)"
   ]
  },
  {
   "cell_type": "code",
   "execution_count": 45,
   "metadata": {},
   "outputs": [],
   "source": [
    "index =pc.Index(index_name)"
   ]
  },
  {
   "cell_type": "code",
   "execution_count": 46,
   "metadata": {},
   "outputs": [],
   "source": [
    "from langchain_community.embeddings import OllamaEmbeddings"
   ]
  },
  {
   "cell_type": "code",
   "execution_count": 47,
   "metadata": {},
   "outputs": [],
   "source": [
    "retriever = PineconeHybridSearchRetriever(\n",
    "    embeddings= OllamaEmbeddings(model='llama3.1'), sparse_encoder=bm25encoder, index=index,top_k=  8\n",
    ")"
   ]
  },
  {
   "cell_type": "code",
   "execution_count": 48,
   "metadata": {},
   "outputs": [
    {
     "data": {
      "application/vnd.jupyter.widget-view+json": {
       "model_id": "2a273d53bfc641d5bf468e4737ea4f1f",
       "version_major": 2,
       "version_minor": 0
      },
      "text/plain": [
       "  0%|          | 0/6 [00:00<?, ?it/s]"
      ]
     },
     "metadata": {},
     "output_type": "display_data"
    }
   ],
   "source": [
    "retriever.add_texts(combined_texts)"
   ]
  },
  {
   "cell_type": "code",
   "execution_count": 49,
   "metadata": {},
   "outputs": [],
   "source": [
    "query = 'Who is the owner of the restaurant'"
   ]
  },
  {
   "cell_type": "code",
   "execution_count": 52,
   "metadata": {},
   "outputs": [
    {
     "name": "stderr",
     "output_type": "stream",
     "text": [
      "0it [00:00, ?it/s]\n",
      "0it [00:00, ?it/s]\n",
      "0it [00:00, ?it/s]\n",
      "0it [00:00, ?it/s]\n",
      "0it [00:00, ?it/s]\n",
      "0it [00:00, ?it/s]\n",
      "0it [00:00, ?it/s]\n",
      "0it [00:00, ?it/s]\n",
      "0it [00:00, ?it/s]\n",
      "0it [00:00, ?it/s]\n",
      "0it [00:00, ?it/s]\n",
      "0it [00:00, ?it/s]\n",
      "0it [00:00, ?it/s]\n",
      "0it [00:00, ?it/s]\n",
      "0it [00:00, ?it/s]\n",
      "0it [00:00, ?it/s]\n",
      "0it [00:00, ?it/s]\n",
      "0it [00:00, ?it/s]\n",
      "0it [00:00, ?it/s]\n",
      "0it [00:00, ?it/s]\n",
      "0it [00:00, ?it/s]\n",
      "0it [00:00, ?it/s]\n",
      "0it [00:00, ?it/s]\n",
      "0it [00:00, ?it/s]\n",
      "0it [00:00, ?it/s]\n",
      "0it [00:00, ?it/s]\n"
     ]
    }
   ],
   "source": [
    "def adjust_final_number(string: str, max_threshold: int, initial_number: int) -> int:\n",
    "    final_number = initial_number\n",
    "    while tqdm(final_number < max_threshold):\n",
    "        retriever = PineconeHybridSearchRetriever(\n",
    "                embeddings= OllamaEmbeddings(model='llama3.1'), sparse_encoder=bm25encoder, index=index,top_k=  final_number)\n",
    "        docs = retriever.get_relevant_documents(string)\n",
    "        text = \"\".join([doc.page_content for doc in docs])\n",
    "        if num_tokens_from_string(text) < max_threshold:\n",
    "            final_number += 5\n",
    "        else:\n",
    "            break\n",
    "    return final_number\n",
    "\n",
    "final_number = adjust_final_number(\"Who is the owner of the restaurant\", 10000, 40)"
   ]
  },
  {
   "cell_type": "code",
   "execution_count": 54,
   "metadata": {},
   "outputs": [
    {
     "name": "stdout",
     "output_type": "stream",
     "text": [
      "9633\n"
     ]
    }
   ],
   "source": [
    "print(num_tokens_from_string(text))"
   ]
  },
  {
   "cell_type": "code",
   "execution_count": 53,
   "metadata": {},
   "outputs": [
    {
     "data": {
      "text/plain": [
       "165"
      ]
     },
     "execution_count": 53,
     "metadata": {},
     "output_type": "execute_result"
    }
   ],
   "source": [
    "retriever = PineconeHybridSearchRetriever(\n",
    "                embeddings= OllamaEmbeddings(model='llama3.1'), sparse_encoder=bm25encoder, index=index,top_k=  final_number)"
   ]
  },
  {
   "cell_type": "code",
   "execution_count": 55,
   "metadata": {},
   "outputs": [],
   "source": [
    "from langchain_core.runnables import RunnablePassthrough\n",
    "\n",
    "template = \"\"\"\n",
    "Answer the question based only on the following context:\n",
    "{context}\n",
    "\n",
    "Answer the following question:\n",
    "Question: {question}\n",
    "\"\"\"\n",
    "prompt = ChatPromptTemplate.from_template(template)\n",
    "\n",
    "\n",
    "def format_docs(docs):\n",
    "    return \"\\n\\n\".join(doc.page_content for doc in docs)\n",
    "\n",
    "rag_chain = (\n",
    "    {\"context\": retriever | format_docs, \"question\": RunnablePassthrough()}\n",
    "    | prompt\n",
    "    | model1\n",
    "    | StrOutputParser()\n",
    ")"
   ]
  },
  {
   "cell_type": "code",
   "execution_count": 56,
   "metadata": {},
   "outputs": [
    {
     "data": {
      "text/plain": [
       "\"The text doesn't explicitly mention who owns the restaurant. However, based on the context, it appears to be Giovanni's restaurant, as he is mentioned throughout the passage as a chef and the one who is passionate about cooking and sharing his culinary philosophy with others.\""
      ]
     },
     "execution_count": 56,
     "metadata": {},
     "output_type": "execute_result"
    }
   ],
   "source": [
    "# Question\n",
    "rag_chain.invoke(\"Who is the owner of the restaurant\")"
   ]
  },
  {
   "cell_type": "code",
   "execution_count": null,
   "metadata": {},
   "outputs": [],
   "source": []
  },
  {
   "cell_type": "markdown",
   "metadata": {},
   "source": [
    "## Building ChatBot"
   ]
  },
  {
   "cell_type": "code",
   "execution_count": 58,
   "metadata": {},
   "outputs": [],
   "source": [
    "import gradio as gr"
   ]
  },
  {
   "cell_type": "code",
   "execution_count": 59,
   "metadata": {},
   "outputs": [],
   "source": [
    "## to modify\n",
    "\n",
    "def chatfunction(text_box,history):\n",
    "    querry = text_box\n",
    "    index =pc.Index(index_name)\n",
    "    retriever = PineconeHybridSearchRetriever(\n",
    "    embeddings= OllamaEmbeddings(model='llama3.1'), sparse_encoder=bm25encoder, index=index,top_k=  165)\n",
    "    \n",
    "    template = \"\"\"\n",
    "    Answer the question based only on the following context:\n",
    "    {context}\n",
    "\n",
    "    Answer the following question:\n",
    "    Question: {question}\n",
    "    \"\"\"\n",
    "    prompt = ChatPromptTemplate.from_template(template)\n",
    "\n",
    "\n",
    "    def format_docs(docs):\n",
    "        return \"\\n\\n\".join(doc.page_content for doc in docs)\n",
    "\n",
    "    rag_chain = (\n",
    "        {\"context\": retriever | format_docs, \"question\": RunnablePassthrough()}\n",
    "        | prompt\n",
    "        | model1\n",
    "        | StrOutputParser())\n",
    "\n",
    "    response_text = rag_chain.invoke(querry)\n",
    "\n",
    "    return response_text"
   ]
  },
  {
   "cell_type": "code",
   "execution_count": 60,
   "metadata": {},
   "outputs": [
    {
     "name": "stdout",
     "output_type": "stream",
     "text": [
      "Running on local URL:  http://127.0.0.1:7860\n",
      "\n",
      "To create a public link, set `share=True` in `launch()`.\n"
     ]
    },
    {
     "data": {
      "text/html": [
       "<div><iframe src=\"http://127.0.0.1:7860/\" width=\"100%\" height=\"500\" allow=\"autoplay; camera; microphone; clipboard-read; clipboard-write;\" frameborder=\"0\" allowfullscreen></iframe></div>"
      ],
      "text/plain": [
       "<IPython.core.display.HTML object>"
      ]
     },
     "metadata": {},
     "output_type": "display_data"
    },
    {
     "data": {
      "text/plain": []
     },
     "execution_count": 60,
     "metadata": {},
     "output_type": "execute_result"
    }
   ],
   "source": [
    "gr.ChatInterface(fn =chatfunction, textbox= gr.Textbox(placeholder= \" enter message here\"),\n",
    "                 chatbot= gr.Chatbot()).launch()"
   ]
  }
 ],
 "metadata": {
  "kernelspec": {
   "display_name": "Python 3",
   "language": "python",
   "name": "python3"
  },
  "language_info": {
   "codemirror_mode": {
    "name": "ipython",
    "version": 3
   },
   "file_extension": ".py",
   "mimetype": "text/x-python",
   "name": "python",
   "nbconvert_exporter": "python",
   "pygments_lexer": "ipython3",
   "version": "3.10.0"
  }
 },
 "nbformat": 4,
 "nbformat_minor": 2
}
